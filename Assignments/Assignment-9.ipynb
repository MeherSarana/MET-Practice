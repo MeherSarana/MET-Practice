{
 "cells": [
  {
   "cell_type": "code",
   "execution_count": 3,
   "id": "72526eb9",
   "metadata": {},
   "outputs": [
    {
     "name": "stdout",
     "output_type": "stream",
     "text": [
      "1\n",
      "2\n",
      "3\n",
      "4\n",
      "5\n"
     ]
    }
   ],
   "source": [
    "#1\n",
    "for i in range(1,6):\n",
    " print(i)"
   ]
  },
  {
   "cell_type": "code",
   "execution_count": 4,
   "id": "17b86cbe",
   "metadata": {},
   "outputs": [
    {
     "name": "stdout",
     "output_type": "stream",
     "text": [
      "10\n",
      "11\n",
      "12\n",
      "13\n",
      "14\n",
      "15\n",
      "16\n",
      "17\n",
      "18\n",
      "19\n",
      "20\n"
     ]
    }
   ],
   "source": [
    "#2\n",
    "for i in range(10,21):\n",
    "    print(i)"
   ]
  },
  {
   "cell_type": "code",
   "execution_count": null,
   "id": "d9fba6e4",
   "metadata": {},
   "outputs": [
    {
     "name": "stdout",
     "output_type": "stream",
     "text": [
      "['Meher', 'Ashwin', 'Komal']\n"
     ]
    }
   ],
   "source": [
    "#3\n",
    "list1 = []\n",
    "for i in range(3):\n",
    "    user = input(\"Enter Your Name\")\n",
    "    list1.append(user)\n",
    "print(list1)"
   ]
  },
  {
   "cell_type": "code",
   "execution_count": 6,
   "id": "7f8aac2c",
   "metadata": {},
   "outputs": [
    {
     "name": "stdout",
     "output_type": "stream",
     "text": [
      "The Square of 2 is  4\n",
      "The Square of 4 is  16\n",
      "The Square of 6 is  36\n",
      "The Square of 8 is  64\n",
      "The Square of 10 is  100\n"
     ]
    }
   ],
   "source": [
    "#4\n",
    "num = [2,4,6,8,10]\n",
    "for i in num:\n",
    "    print(f\"The Square of {i} is \",i**2)"
   ]
  },
  {
   "cell_type": "code",
   "execution_count": 9,
   "id": "4f80187f",
   "metadata": {},
   "outputs": [
    {
     "name": "stdout",
     "output_type": "stream",
     "text": [
      "Your name is Alice and age is 20\n",
      "Your name is John and age is 21\n",
      "Your name is Waad and age is 20\n"
     ]
    }
   ],
   "source": [
    "#5\n",
    "details = [\n",
    "    {\n",
    "        'name': 'Alice',\n",
    "        'age' : 20\n",
    "    },\n",
    "    {\n",
    "        'name' : 'John',\n",
    "        'age' : 21\n",
    "    },\n",
    "    {\n",
    "        'name' : 'Waad',\n",
    "        'age' : 20\n",
    "    }\n",
    "]\n",
    "\n",
    "for i in details:\n",
    "    name = i.get(\"name\")\n",
    "    age = i.get(\"age\")\n",
    "    print(f\"Your name is {name} and age is {age}\")"
   ]
  },
  {
   "cell_type": "code",
   "execution_count": 11,
   "id": "b046f866",
   "metadata": {},
   "outputs": [
    {
     "name": "stdout",
     "output_type": "stream",
     "text": [
      "apple\n",
      "banana\n",
      "grape\n",
      "mango\n"
     ]
    }
   ],
   "source": [
    "#6\n",
    "fruits = [['apple', 'banana'], ['grape', 'mango']]\n",
    "for fruit in fruits:\n",
    "    print(fruit[0][0:])\n",
    "    print(fruit[1][0:])"
   ]
  },
  {
   "cell_type": "code",
   "execution_count": 12,
   "id": "4d41fbdc",
   "metadata": {},
   "outputs": [
    {
     "name": "stdout",
     "output_type": "stream",
     "text": [
      "m\n",
      "e\n",
      "h\n",
      "e\n",
      "r\n"
     ]
    }
   ],
   "source": [
    "#7\n",
    "user_name = input(\"Enter Your Name\")\n",
    "for char in user_name:\n",
    "    print(char)"
   ]
  },
  {
   "cell_type": "code",
   "execution_count": 15,
   "id": "eb3fcc2a",
   "metadata": {},
   "outputs": [
    {
     "name": "stdout",
     "output_type": "stream",
     "text": [
      "5\n",
      "4\n",
      "3\n",
      "2\n",
      "1\n"
     ]
    }
   ],
   "source": [
    "#8\n",
    "for i in range(5,0,-1):\n",
    "    print(i)"
   ]
  },
  {
   "cell_type": "code",
   "execution_count": 20,
   "id": "2cfb931c",
   "metadata": {},
   "outputs": [
    {
     "name": "stdout",
     "output_type": "stream",
     "text": [
      "The Subject is Math  and your marks is 96\n",
      "The Subject is Science and your marks is 89\n",
      "The Subject is English and your marks is 75\n"
     ]
    }
   ],
   "source": [
    "#9\n",
    "for i in range(3):\n",
    "    Subject = input(\"Enter Subject Name\")\n",
    "    Marks = input(f\"Enter Your Marks of {Subject}\")\n",
    "    print(f\"The Subject is {Subject} and your marks is {Marks}\")"
   ]
  },
  {
   "cell_type": "code",
   "execution_count": 19,
   "id": "40365ddd",
   "metadata": {},
   "outputs": [
    {
     "name": "stdout",
     "output_type": "stream",
     "text": [
      "Soap : 50\n",
      "Pencil : 5\n",
      "Box : 200\n"
     ]
    }
   ],
   "source": [
    "#10\n",
    "prod_price = [\n",
    "    (\"Soap\",50),\n",
    "    (\"Pencil\",5),\n",
    "    (\"Box\",200)\n",
    "]\n",
    "\n",
    "for product,price in prod_price:\n",
    "    print(f\"{product} : {price}\")"
   ]
  }
 ],
 "metadata": {
  "kernelspec": {
   "display_name": "Python 3",
   "language": "python",
   "name": "python3"
  },
  "language_info": {
   "codemirror_mode": {
    "name": "ipython",
    "version": 3
   },
   "file_extension": ".py",
   "mimetype": "text/x-python",
   "name": "python",
   "nbconvert_exporter": "python",
   "pygments_lexer": "ipython3",
   "version": "3.11.4"
  }
 },
 "nbformat": 4,
 "nbformat_minor": 5
}
