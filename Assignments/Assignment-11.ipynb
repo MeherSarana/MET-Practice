{
 "cells": [
  {
   "cell_type": "code",
   "execution_count": 5,
   "id": "13cc7262",
   "metadata": {},
   "outputs": [
    {
     "name": "stdout",
     "output_type": "stream",
     "text": [
      "Samsung has beeen Turned On\n"
     ]
    }
   ],
   "source": [
    "#1\n",
    "class TV:\n",
    "    def __init__(self,brand):\n",
    "        self.brand = brand\n",
    "\n",
    "    def turn_on(self):\n",
    "        print(f\"{self.brand} has beeen Turned On\")\n",
    "    \n",
    "    def turn_off(self):\n",
    "        print(f\"{self.brand} has beeen Turned Off\")\n",
    "\n",
    "class Remote:\n",
    "    def __init__(self,tv):\n",
    "        self.tv = tv\n",
    "\n",
    "tv = TV(\"Samsung\")\n",
    "remote = Remote(tv)\n",
    "remote.tv.turn_on()\n"
   ]
  },
  {
   "cell_type": "code",
   "execution_count": 6,
   "id": "267027cc",
   "metadata": {},
   "outputs": [
    {
     "name": "stdout",
     "output_type": "stream",
     "text": [
      "The Engine has been Started\n"
     ]
    }
   ],
   "source": [
    "#2\n",
    "class Engine:\n",
    "    def __init__(self):\n",
    "        pass\n",
    "\n",
    "    def start_engine(self):\n",
    "        print(f\"The Engine has been Started\")\n",
    "\n",
    "class Car:\n",
    "    def __init__(self,engine):\n",
    "        self.engine = engine\n",
    "engine = Engine()\n",
    "car = Car(engine)\n",
    "car.engine.start_engine()"
   ]
  },
  {
   "cell_type": "code",
   "execution_count": 7,
   "id": "e28d3689",
   "metadata": {},
   "outputs": [
    {
     "name": "stdout",
     "output_type": "stream",
     "text": [
      "The Light has been Switched ON\n"
     ]
    }
   ],
   "source": [
    "#3\n",
    "class Room:\n",
    "    def __init__(self,light):\n",
    "        self.light = light\n",
    "\n",
    "class Light:\n",
    "    def __init__(self):\n",
    "        pass\n",
    "\n",
    "    def switch_on(self):\n",
    "        print(f\"The Light has been Switched ON\")\n",
    "\n",
    "light = Light()\n",
    "room = Room(light)\n",
    "room.light.switch_on()"
   ]
  },
  {
   "cell_type": "code",
   "execution_count": 8,
   "id": "e0e66675",
   "metadata": {},
   "outputs": [
    {
     "name": "stdout",
     "output_type": "stream",
     "text": [
      "The Device is Charged Upto 74%\n"
     ]
    }
   ],
   "source": [
    "#4\n",
    "class Laptop:\n",
    "    def __init__(self,battery):\n",
    "        self.battery = battery\n",
    "\n",
    "class Battery:\n",
    "    def __init__(self,charge):\n",
    "        self.charge = charge\n",
    "\n",
    "    def check_charge(self):\n",
    "        print(f\"The Device is Charged Upto {self.charge}%\")\n",
    "\n",
    "battery = Battery(74)\n",
    "laptop = Laptop(battery)\n",
    "\n",
    "laptop.battery.check_charge()"
   ]
  },
  {
   "cell_type": "code",
   "execution_count": null,
   "id": "94c0cd1c",
   "metadata": {},
   "outputs": [
    {
     "name": "stdout",
     "output_type": "stream",
     "text": [
      "The Picture Has been Clicked\n"
     ]
    }
   ],
   "source": [
    "#5\n",
    "class Mobile:\n",
    "    def __init__(self,camera):\n",
    "        self.camera = camera\n",
    "\n",
    "class Camera:\n",
    "    def __init__(self):\n",
    "        pass\n",
    "\n",
    "    def take_picture(self):\n",
    "        print(f\"The Picture Has been Clicked\")\n",
    "\n",
    "camera = Camera()\n",
    "mobile = Mobile(camera)\n",
    "mobile.camera.take_picture()"
   ]
  }
 ],
 "metadata": {
  "kernelspec": {
   "display_name": "Python 3",
   "language": "python",
   "name": "python3"
  },
  "language_info": {
   "codemirror_mode": {
    "name": "ipython",
    "version": 3
   },
   "file_extension": ".py",
   "mimetype": "text/x-python",
   "name": "python",
   "nbconvert_exporter": "python",
   "pygments_lexer": "ipython3",
   "version": "3.11.4"
  }
 },
 "nbformat": 4,
 "nbformat_minor": 5
}
