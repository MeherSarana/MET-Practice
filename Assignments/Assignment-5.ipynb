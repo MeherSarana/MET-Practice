{
 "cells": [
  {
   "cell_type": "code",
   "execution_count": 1,
   "id": "1513c04b",
   "metadata": {},
   "outputs": [
    {
     "name": "stdout",
     "output_type": "stream",
     "text": [
      "dragon\n"
     ]
    }
   ],
   "source": [
    "#1\n",
    "fruits = [['jack', 'apple'], ['orange', 'kiwi'], ['dragon', 'grape']]\n",
    "print(fruits[2][0])"
   ]
  },
  {
   "cell_type": "code",
   "execution_count": 2,
   "id": "66ebab3b",
   "metadata": {},
   "outputs": [
    {
     "name": "stdout",
     "output_type": "stream",
     "text": [
      "5\n"
     ]
    }
   ],
   "source": [
    "#2\n",
    "coordinates = ((0, 1), (2, 3), (4, 5))\n",
    "print(coordinates[2][-1])"
   ]
  },
  {
   "cell_type": "code",
   "execution_count": 3,
   "id": "2e06a039",
   "metadata": {},
   "outputs": [
    {
     "name": "stdout",
     "output_type": "stream",
     "text": [
      "21\n"
     ]
    }
   ],
   "source": [
    "#3\n",
    "students = [('Alice', 23), ('Bob', 21)]\n",
    "print(students[1][-1])"
   ]
  },
  {
   "cell_type": "code",
   "execution_count": 4,
   "id": "1fb31fae",
   "metadata": {},
   "outputs": [
    {
     "name": "stdout",
     "output_type": "stream",
     "text": [
      "40\n"
     ]
    }
   ],
   "source": [
    "#4\n",
    "lists = ([10, 20], [30, 40])\n",
    "print(lists[1][-1])"
   ]
  },
  {
   "cell_type": "code",
   "execution_count": 5,
   "id": "bb763000",
   "metadata": {},
   "outputs": [
    {
     "name": "stdout",
     "output_type": "stream",
     "text": [
      "Alice\n"
     ]
    }
   ],
   "source": [
    "#5\n",
    "students = [{\"name\":\"Alice\",\n",
    "             \"age\":23 },\n",
    "             {\"name\":\"Bob\",\n",
    "              \"age\": 27     \n",
    "          }]\n",
    "\n",
    "print(students[0][\"name\"])"
   ]
  },
  {
   "cell_type": "code",
   "execution_count": null,
   "id": "047d4a68",
   "metadata": {},
   "outputs": [
    {
     "name": "stdout",
     "output_type": "stream",
     "text": [
      "67\n"
     ]
    }
   ],
   "source": [
    "#6\n",
    "subject_marks = {\n",
    "    \"Math\" : [30,67,80],\n",
    "}\n",
    "print(subject_marks[\"Math\"][1])"
   ]
  },
  {
   "cell_type": "code",
   "execution_count": 7,
   "id": "7919ea94",
   "metadata": {},
   "outputs": [
    {
     "name": "stdout",
     "output_type": "stream",
     "text": [
      "{'name': 'Alice', 'age': 23}\n"
     ]
    }
   ],
   "source": [
    "#7\n",
    "user_profile = {\n",
    "    \"Alice\" : {\n",
    "        \"name\" : \"Alice\",\n",
    "        \"age\" : 23\n",
    "    }\n",
    "}\n",
    "print(user_profile.get(\"Alice\"))"
   ]
  },
  {
   "cell_type": "code",
   "execution_count": 8,
   "id": "48f1d9e3",
   "metadata": {},
   "outputs": [
    {
     "name": "stdout",
     "output_type": "stream",
     "text": [
      "Success\n"
     ]
    }
   ],
   "source": [
    "#8\n",
    "billing_history = [{\n",
    "    \"amount\" : \"200\",\n",
    "    \"status\" : \"failed\"\n",
    "},\n",
    "{\n",
    "    \"amount\" : \"832\",\n",
    "    \"status\" :\"Success\"\n",
    "}\n",
    "]\n",
    "\n",
    "print(billing_history[1][\"status\"])"
   ]
  },
  {
   "cell_type": "code",
   "execution_count": 9,
   "id": "6c003515",
   "metadata": {},
   "outputs": [
    {
     "name": "stdout",
     "output_type": "stream",
     "text": [
      "200\n"
     ]
    }
   ],
   "source": [
    "#9\n",
    "billing_history = ({\n",
    "    \"amount\" : \"200\",\n",
    "    \"status\" : \"failed\"\n",
    "},\n",
    "{\n",
    "    \"amount\" : \"832\",\n",
    "    \"status\" :\"Success\"\n",
    "})\n",
    "\n",
    "print(billing_history[0][\"amount\"])"
   ]
  },
  {
   "cell_type": "code",
   "execution_count": 10,
   "id": "4c636697",
   "metadata": {},
   "outputs": [
    {
     "name": "stdout",
     "output_type": "stream",
     "text": [
      "41\n"
     ]
    }
   ],
   "source": [
    "#10\n",
    "groups = [(\"Mumbai\",\"42\"),(\"Delhi\",\"40\"),(\"Chennai\",\"41\")]\n",
    "print(groups[2][-1])"
   ]
  },
  {
   "cell_type": "code",
   "execution_count": 11,
   "id": "53b7e2de",
   "metadata": {},
   "outputs": [
    {
     "name": "stdout",
     "output_type": "stream",
     "text": [
      "90\n"
     ]
    }
   ],
   "source": [
    "#11\n",
    "scores = {\n",
    "    \"names\" : [80,85,90]\n",
    "}\n",
    "print(scores[\"names\"][-1])"
   ]
  },
  {
   "cell_type": "code",
   "execution_count": 12,
   "id": "bba3896c",
   "metadata": {},
   "outputs": [
    {
     "name": "stdout",
     "output_type": "stream",
     "text": [
      "CyberPunk 2077\n"
     ]
    }
   ],
   "source": [
    "#12\n",
    "products_prices = [\n",
    "    {\n",
    "        \"product\" : \"GTA 6\",\n",
    "        \"price\" : \"100$\"\n",
    "    },\n",
    "    {\n",
    "        \"product\" : \"CyberPunk 2077\",\n",
    "        \"price\" : \"60$\"\n",
    "    }\n",
    "]\n",
    "print(products_prices[1][\"product\"])"
   ]
  },
  {
   "cell_type": "code",
   "execution_count": 13,
   "id": "68aaa3b6",
   "metadata": {},
   "outputs": [
    {
     "name": "stdout",
     "output_type": "stream",
     "text": [
      "89\n"
     ]
    }
   ],
   "source": [
    "#13\n",
    "sub_marks = [\n",
    "    (\"Maths\",[90,99,98]),\n",
    "    (\"Science\",[85,89,90]),\n",
    "    (\"English\",[70,75,78])\n",
    "]\n",
    "print(sub_marks[1][1][1])"
   ]
  },
  {
   "cell_type": "code",
   "execution_count": 15,
   "id": "97f32485",
   "metadata": {},
   "outputs": [
    {
     "name": "stdout",
     "output_type": "stream",
     "text": [
      "Need To Wake Up at 6am\n"
     ]
    }
   ],
   "source": [
    "#14\n",
    "week_days = {\n",
    "    \"MON\" : (\"Need To Wake Up at 6am\",\"Need to go for a run\"),\n",
    "    \"TUE\" : (\"Need To Wake Up at 4am\",\"Need to go for a Haircut\")\n",
    "}\n",
    "print(week_days[\"MON\"][0])"
   ]
  },
  {
   "cell_type": "code",
   "execution_count": 16,
   "id": "ceb5956f",
   "metadata": {},
   "outputs": [
    {
     "name": "stdout",
     "output_type": "stream",
     "text": [
      "90\n"
     ]
    }
   ],
   "source": [
    "#15\n",
    "student_details = [\n",
    "    {\n",
    "        \"Wander\":{\n",
    "            \"Subject\" : \"Math\",\n",
    "            \"Marks\" : 90\n",
    "        }\n",
    "    },\n",
    "    {\n",
    "        \"ShadowMonarch\":{\n",
    "            \"Subject\" : \"Science\",\n",
    "            \"Marks\" : 95\n",
    "        }\n",
    "    },\n",
    "]\n",
    "print(student_details[0][\"Wander\"][\"Marks\"])"
   ]
  }
 ],
 "metadata": {
  "kernelspec": {
   "display_name": "Python 3",
   "language": "python",
   "name": "python3"
  },
  "language_info": {
   "codemirror_mode": {
    "name": "ipython",
    "version": 3
   },
   "file_extension": ".py",
   "mimetype": "text/x-python",
   "name": "python",
   "nbconvert_exporter": "python",
   "pygments_lexer": "ipython3",
   "version": "3.11.4"
  }
 },
 "nbformat": 4,
 "nbformat_minor": 5
}
