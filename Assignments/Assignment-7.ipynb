{
 "cells": [
  {
   "cell_type": "code",
   "execution_count": 1,
   "id": "08f2a710",
   "metadata": {},
   "outputs": [
    {
     "data": {
      "text/plain": [
       "'Hello Wander'"
      ]
     },
     "execution_count": 1,
     "metadata": {},
     "output_type": "execute_result"
    }
   ],
   "source": [
    "#1\n",
    "def greet_user(name):\n",
    "    return f\"Hello {name}\"\n",
    "\n",
    "n = input(\"Enter your Name\")\n",
    "greet_user(n)\n"
   ]
  },
  {
   "cell_type": "code",
   "execution_count": 2,
   "id": "acc2e2c4",
   "metadata": {},
   "outputs": [
    {
     "name": "stdout",
     "output_type": "stream",
     "text": [
      "Fever\n"
     ]
    }
   ],
   "source": [
    "#2\n",
    "def check_temperature(temp):\n",
    "    if temp > 37.6:\n",
    "        print(\"Fever\")\n",
    "    else:\n",
    "        print(\"Normal\")\n",
    "\n",
    "i = int(input(\"Enter Your Temperature\"))\n",
    "check_temperature(i)\n",
    "\n"
   ]
  },
  {
   "cell_type": "code",
   "execution_count": 3,
   "id": "3eabb98b",
   "metadata": {},
   "outputs": [
    {
     "data": {
      "text/plain": [
       "'cherry'"
      ]
     },
     "execution_count": 3,
     "metadata": {},
     "output_type": "execute_result"
    }
   ],
   "source": [
    "#3\n",
    "def get_last_fruit(fruits):\n",
    "    return fruits[-1]\n",
    "\n",
    "f = [\"apple\",\"banana\",\"cherry\"]\n",
    "get_last_fruit(f)\n"
   ]
  },
  {
   "cell_type": "code",
   "execution_count": 5,
   "id": "5c1979fb",
   "metadata": {},
   "outputs": [
    {
     "name": "stdout",
     "output_type": "stream",
     "text": [
      "Expensive\n",
      "Affordable\n"
     ]
    }
   ],
   "source": [
    "#4\n",
    "def get_price_tag(price):\n",
    "    if price > 1000:\n",
    "        print(\"Expensive\")\n",
    "    else:\n",
    "        print(\"Affordable\")\n",
    "\n",
    "get_price_tag(2000)\n",
    "get_price_tag(800)"
   ]
  },
  {
   "cell_type": "code",
   "execution_count": 6,
   "id": "b0a9aeb2",
   "metadata": {},
   "outputs": [
    {
     "data": {
      "text/plain": [
       "'My Wander and age is 21'"
      ]
     },
     "execution_count": 6,
     "metadata": {},
     "output_type": "execute_result"
    }
   ],
   "source": [
    "#5\n",
    "def format_user_info(name,age):\n",
    "    return f\"My {name} and age is {age}\"\n",
    "\n",
    "format_user_info(\"Wander\",21)"
   ]
  },
  {
   "cell_type": "code",
   "execution_count": 22,
   "id": "fb770266",
   "metadata": {},
   "outputs": [
    {
     "name": "stdout",
     "output_type": "stream",
     "text": [
      "HELLO\n"
     ]
    },
    {
     "data": {
      "text/plain": [
       "'Invalid Input'"
      ]
     },
     "execution_count": 22,
     "metadata": {},
     "output_type": "execute_result"
    }
   ],
   "source": [
    "#6\n",
    "def uppercase_if_string(string):\n",
    "    t = type(string)\n",
    "    if t == str:\n",
    "         print(string.upper())\n",
    "    else:\n",
    "        return \"Invalid Input\"\n",
    "\n",
    "uppercase_if_string(\"hello\")\n",
    "uppercase_if_string(3)"
   ]
  },
  {
   "cell_type": "code",
   "execution_count": 11,
   "id": "56840d31",
   "metadata": {},
   "outputs": [
    {
     "name": "stdout",
     "output_type": "stream",
     "text": [
      "Cannot Divide\n"
     ]
    },
    {
     "data": {
      "text/plain": [
       "5.0"
      ]
     },
     "execution_count": 11,
     "metadata": {},
     "output_type": "execute_result"
    }
   ],
   "source": [
    "#7\n",
    "def safe_divide(num,den):\n",
    "    if den == 0:\n",
    "        print(\"Cannot Divide\")\n",
    "    else:\n",
    "        return num/den\n",
    "\n",
    "safe_divide(25,0)\n",
    "safe_divide(25,5)"
   ]
  },
  {
   "cell_type": "code",
   "execution_count": 13,
   "id": "01e9c97a",
   "metadata": {},
   "outputs": [
    {
     "name": "stdout",
     "output_type": "stream",
     "text": [
      "Login Failed\n",
      "Login Successful\n"
     ]
    }
   ],
   "source": [
    "#8\n",
    "def check_login(username,password):\n",
    "    if password != None:\n",
    "        print(\"Login Successful\")\n",
    "    else:\n",
    "        print(\"Login Failed\")\n",
    "\n",
    "check_login(\"Wander\",None)\n",
    "check_login(\"Wander\",\"1234\")\n"
   ]
  },
  {
   "cell_type": "code",
   "execution_count": 14,
   "id": "5d55c5d7",
   "metadata": {},
   "outputs": [
    {
     "name": "stdout",
     "output_type": "stream",
     "text": [
      "Meher Sarana\n"
     ]
    }
   ],
   "source": [
    "#9\n",
    "def get_full_name(first,last):\n",
    "    string1 = f\"{first} {last}\"\n",
    "    print(string1.title())\n",
    "\n",
    "get_full_name(\"Meher\",\"Sarana\")"
   ]
  },
  {
   "cell_type": "code",
   "execution_count": 21,
   "id": "023b38e8",
   "metadata": {},
   "outputs": [
    {
     "data": {
      "text/plain": [
       "450.0"
      ]
     },
     "execution_count": 21,
     "metadata": {},
     "output_type": "execute_result"
    }
   ],
   "source": [
    "#10\n",
    "def get_discounted_price(price,is_member):\n",
    "    if is_member == True:\n",
    "        return  price * 0.9\n",
    "    else:\n",
    "        return price\n",
    "    \n",
    "get_discounted_price(500,True)\n",
    "\n",
    "#get_discounted_price(500,False)"
   ]
  }
 ],
 "metadata": {
  "kernelspec": {
   "display_name": "Python 3",
   "language": "python",
   "name": "python3"
  },
  "language_info": {
   "codemirror_mode": {
    "name": "ipython",
    "version": 3
   },
   "file_extension": ".py",
   "mimetype": "text/x-python",
   "name": "python",
   "nbconvert_exporter": "python",
   "pygments_lexer": "ipython3",
   "version": "3.11.4"
  }
 },
 "nbformat": 4,
 "nbformat_minor": 5
}
