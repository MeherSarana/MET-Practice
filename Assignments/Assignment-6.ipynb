{
 "cells": [
  {
   "cell_type": "code",
   "execution_count": 3,
   "id": "219b702b",
   "metadata": {},
   "outputs": [
    {
     "name": "stdout",
     "output_type": "stream",
     "text": [
      "\n",
      "Final Tasks:\n",
      " {1: 'Wake Up', 2: 'Eat'}\n"
     ]
    }
   ],
   "source": [
    "#Ask user to enter task 1 name\n",
    "#Ask user to enter task 2 name\n",
    "#Ask user to enter task 3 name\n",
    "#Ask user to update task 2\n",
    "#Ask user to delete task 3\n",
    "#print final tasks\n",
    "\n",
    "task1 = input(\"Enter name for Task 1: \")\n",
    "task2 = input(\"Enter name for Task 2: \")\n",
    "task3 = input(\"Enter name for Task 3: \")\n",
    "\n",
    "tasks = {\n",
    "    1: task1,\n",
    "    2: task2,\n",
    "    3: task3\n",
    "}\n",
    "\n",
    "updated_task2 = input(\"Enter new name for Task 2: \")\n",
    "tasks[2] = updated_task2\n",
    "\n",
    "del_req = input(\"Enter the Yes or No to delete task (3):\")\n",
    "\n",
    "if del_req.lower() == \"yes\":\n",
    "    del tasks[3]\n",
    "\n",
    "print(\"\\nFinal Tasks:\\n\",tasks)\n",
    "\n"
   ]
  }
 ],
 "metadata": {
  "kernelspec": {
   "display_name": "Python 3",
   "language": "python",
   "name": "python3"
  },
  "language_info": {
   "codemirror_mode": {
    "name": "ipython",
    "version": 3
   },
   "file_extension": ".py",
   "mimetype": "text/x-python",
   "name": "python",
   "nbconvert_exporter": "python",
   "pygments_lexer": "ipython3",
   "version": "3.11.4"
  }
 },
 "nbformat": 4,
 "nbformat_minor": 5
}
