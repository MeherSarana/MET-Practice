{
 "cells": [
  {
   "cell_type": "code",
   "execution_count": 7,
   "metadata": {
    "execution": {
     "iopub.execute_input": "2025-06-04T13:07:49.983696Z",
     "iopub.status.busy": "2025-06-04T13:07:49.983310Z",
     "iopub.status.idle": "2025-06-04T13:08:30.790449Z",
     "shell.execute_reply": "2025-06-04T13:08:30.789590Z",
     "shell.execute_reply.started": "2025-06-04T13:07:49.983670Z"
    },
    "trusted": true
   },
   "outputs": [
    {
     "name": "stdout",
     "output_type": "stream",
     "text": [
      "Enter your Name: John Wick\n"
     ]
    },
    {
     "name": "stdout",
     "output_type": "stream",
     "text": [
      "John\n"
     ]
    }
   ],
   "source": [
    "#1\n",
    "full_name = input(\"Enter your Name:\")\n",
    "first_space = full_name.find(\" \")\n",
    "\n",
    "first_name = full_name[:first_space]\n",
    "\n",
    "print(first_name)"
   ]
  },
  {
   "cell_type": "code",
   "execution_count": 1,
   "metadata": {
    "execution": {
     "iopub.execute_input": "2025-06-04T13:03:57.248397Z",
     "iopub.status.busy": "2025-06-04T13:03:57.248127Z",
     "iopub.status.idle": "2025-06-04T13:04:15.902588Z",
     "shell.execute_reply": "2025-06-04T13:04:15.901550Z",
     "shell.execute_reply.started": "2025-06-04T13:03:57.248377Z"
    },
    "trusted": true
   },
   "outputs": [
    {
     "name": "stdout",
     "output_type": "stream",
     "text": [
      "Enter your City New Delhi\n"
     ]
    },
    {
     "name": "stdout",
     "output_type": "stream",
     "text": [
      "NEW DELHI \n",
      " new delhi \n",
      " New Delhi\n"
     ]
    }
   ],
   "source": [
    "#2\n",
    "city = input(\"Enter your City\")\n",
    "\n",
    "a = city.upper()\n",
    "b = city.lower()\n",
    "c = city.title()\n",
    "\n",
    "print(a,\"\\n\",b,\"\\n\",c)"
   ]
  },
  {
   "cell_type": "code",
   "execution_count": 3,
   "metadata": {
    "execution": {
     "iopub.execute_input": "2025-06-04T13:05:11.973770Z",
     "iopub.status.busy": "2025-06-04T13:05:11.973349Z",
     "iopub.status.idle": "2025-06-04T13:05:11.979017Z",
     "shell.execute_reply": "2025-06-04T13:05:11.978044Z",
     "shell.execute_reply.started": "2025-06-04T13:05:11.973740Z"
    },
    "trusted": true
   },
   "outputs": [
    {
     "name": "stdout",
     "output_type": "stream",
     "text": [
      "ygolonhceT\n"
     ]
    }
   ],
   "source": [
    "#3\n",
    "string = \"Technology\"\n",
    "print(string[::-1])"
   ]
  },
  {
   "cell_type": "code",
   "execution_count": 8,
   "metadata": {
    "execution": {
     "iopub.execute_input": "2025-06-04T13:09:50.450396Z",
     "iopub.status.busy": "2025-06-04T13:09:50.450120Z",
     "iopub.status.idle": "2025-06-04T13:09:50.455484Z",
     "shell.execute_reply": "2025-06-04T13:09:50.454567Z",
     "shell.execute_reply.started": "2025-06-04T13:09:50.450375Z"
    },
    "trusted": true
   },
   "outputs": [
    {
     "name": "stdout",
     "output_type": "stream",
     "text": [
      "Data-Science\n"
     ]
    }
   ],
   "source": [
    "#4\n",
    "strings = ['Data', 'Science']\n",
    "joined = \"-\".join(strings)\n",
    "print(joined)"
   ]
  },
  {
   "cell_type": "code",
   "execution_count": 10,
   "metadata": {
    "execution": {
     "iopub.execute_input": "2025-06-04T13:15:00.125756Z",
     "iopub.status.busy": "2025-06-04T13:15:00.125360Z",
     "iopub.status.idle": "2025-06-04T13:15:06.375974Z",
     "shell.execute_reply": "2025-06-04T13:15:06.375027Z",
     "shell.execute_reply.started": "2025-06-04T13:15:00.125726Z"
    },
    "trusted": true
   },
   "outputs": [
    {
     "name": "stdout",
     "output_type": "stream",
     "text": [
      "Enter the Price of the Product:  105.53862927\n"
     ]
    },
    {
     "name": "stdout",
     "output_type": "stream",
     "text": [
      "The Price of the Product is 105.54\n"
     ]
    }
   ],
   "source": [
    "#5\n",
    "product_price = float(input(\"Enter the Price of the Product: \"))\n",
    "print(f\"The Price of the Product is {product_price:.2f}\")"
   ]
  },
  {
   "cell_type": "code",
   "execution_count": 11,
   "metadata": {
    "execution": {
     "iopub.execute_input": "2025-06-04T13:16:03.899498Z",
     "iopub.status.busy": "2025-06-04T13:16:03.899157Z",
     "iopub.status.idle": "2025-06-04T13:16:03.905838Z",
     "shell.execute_reply": "2025-06-04T13:16:03.904602Z",
     "shell.execute_reply.started": "2025-06-04T13:16:03.899472Z"
    },
    "trusted": true
   },
   "outputs": [
    {
     "name": "stdout",
     "output_type": "stream",
     "text": [
      "My Name is Meher and age is 21\n"
     ]
    }
   ],
   "source": [
    "#6\n",
    "name = \"Meher\"\n",
    "age = 21\n",
    "\n",
    "print(f\"My Name is {name} and age is {age}\")"
   ]
  },
  {
   "cell_type": "code",
   "execution_count": 13,
   "metadata": {
    "execution": {
     "iopub.execute_input": "2025-06-04T13:17:55.019365Z",
     "iopub.status.busy": "2025-06-04T13:17:55.019091Z",
     "iopub.status.idle": "2025-06-04T13:17:55.024359Z",
     "shell.execute_reply": "2025-06-04T13:17:55.023374Z",
     "shell.execute_reply.started": "2025-06-04T13:17:55.019346Z"
    },
    "trusted": true
   },
   "outputs": [
    {
     "name": "stdout",
     "output_type": "stream",
     "text": [
      "True\n"
     ]
    }
   ],
   "source": [
    "#7\n",
    "sentence = \"Python is Awesome\"\n",
    "a = \"Python\" in sentence\n",
    "print(a)"
   ]
  },
  {
   "cell_type": "code",
   "execution_count": 33,
   "metadata": {
    "execution": {
     "iopub.execute_input": "2025-06-04T13:56:17.577632Z",
     "iopub.status.busy": "2025-06-04T13:56:17.577293Z",
     "iopub.status.idle": "2025-06-04T13:56:19.496920Z",
     "shell.execute_reply": "2025-06-04T13:56:19.495897Z",
     "shell.execute_reply.started": "2025-06-04T13:56:17.577591Z"
    },
    "trusted": true
   },
   "outputs": [
    {
     "name": "stdout",
     "output_type": "stream",
     "text": [
      "Enter a Sentence: Python is Awesome\n"
     ]
    },
    {
     "name": "stdout",
     "output_type": "stream",
     "text": [
      "17\n"
     ]
    }
   ],
   "source": [
    "#8\n",
    "sentence = input(\"Enter a Sentence:\").strip()\n",
    "a = len(sentence)\n",
    "print(a)"
   ]
  },
  {
   "cell_type": "code",
   "execution_count": 23,
   "metadata": {
    "execution": {
     "iopub.execute_input": "2025-06-04T13:41:32.455842Z",
     "iopub.status.busy": "2025-06-04T13:41:32.455011Z",
     "iopub.status.idle": "2025-06-04T13:41:36.069201Z",
     "shell.execute_reply": "2025-06-04T13:41:36.068332Z",
     "shell.execute_reply.started": "2025-06-04T13:41:32.455810Z"
    },
    "trusted": true
   },
   "outputs": [
    {
     "name": "stdout",
     "output_type": "stream",
     "text": [
      "Enter the Price 200\n"
     ]
    },
    {
     "name": "stdout",
     "output_type": "stream",
     "text": [
      "210.0\n"
     ]
    }
   ],
   "source": [
    "#9\n",
    "price = int(input(\"Enter the Price\"))\n",
    "tax = (5/100) * price\n",
    "print(price + tax)"
   ]
  },
  {
   "cell_type": "code",
   "execution_count": 22,
   "metadata": {
    "execution": {
     "iopub.execute_input": "2025-06-04T13:38:30.752219Z",
     "iopub.status.busy": "2025-06-04T13:38:30.751453Z",
     "iopub.status.idle": "2025-06-04T13:38:30.757403Z",
     "shell.execute_reply": "2025-06-04T13:38:30.756434Z",
     "shell.execute_reply.started": "2025-06-04T13:38:30.752196Z"
    },
    "trusted": true
   },
   "outputs": [
    {
     "name": "stdout",
     "output_type": "stream",
     "text": [
      "True\n"
     ]
    }
   ],
   "source": [
    "#10\n",
    "name = 'Alice'\n",
    "if 'i' in name and 'z' not in name:\n",
    "    print(True)"
   ]
  },
  {
   "cell_type": "code",
   "execution_count": 21,
   "metadata": {
    "execution": {
     "iopub.execute_input": "2025-06-04T13:37:14.340776Z",
     "iopub.status.busy": "2025-06-04T13:37:14.340448Z",
     "iopub.status.idle": "2025-06-04T13:37:14.347054Z",
     "shell.execute_reply": "2025-06-04T13:37:14.346043Z",
     "shell.execute_reply.started": "2025-06-04T13:37:14.340755Z"
    },
    "trusted": true
   },
   "outputs": [
    {
     "name": "stdout",
     "output_type": "stream",
     "text": [
      "The Score of User is  90.0\n"
     ]
    }
   ],
   "source": [
    "#11\n",
    "Maths, Physics, Chemistry = 95,90,85\n",
    "average = (Maths+Physics+Chemistry)/3\n",
    "print(\"The Score of User is \",average)"
   ]
  },
  {
   "cell_type": "code",
   "execution_count": 20,
   "metadata": {
    "execution": {
     "iopub.execute_input": "2025-06-04T13:33:40.823698Z",
     "iopub.status.busy": "2025-06-04T13:33:40.823345Z",
     "iopub.status.idle": "2025-06-04T13:33:47.226816Z",
     "shell.execute_reply": "2025-06-04T13:33:47.226001Z",
     "shell.execute_reply.started": "2025-06-04T13:33:40.823676Z"
    },
    "trusted": true
   },
   "outputs": [
    {
     "name": "stdout",
     "output_type": "stream",
     "text": [
      "Enter the Height 172\n",
      "Enter the weight 73\n"
     ]
    },
    {
     "name": "stdout",
     "output_type": "stream",
     "text": [
      "The BMI is: 0.0024675500270416443\n"
     ]
    }
   ],
   "source": [
    "#12\n",
    "height = int(input(\"Enter the Height\"))\n",
    "weight = int(input(\"Enter the weight\"))\n",
    "\n",
    "BMI = weight/(height**2)\n",
    "print(\"The BMI is:\",BMI)"
   ]
  },
  {
   "cell_type": "code",
   "execution_count": 19,
   "metadata": {
    "execution": {
     "iopub.execute_input": "2025-06-04T13:31:15.099702Z",
     "iopub.status.busy": "2025-06-04T13:31:15.099340Z",
     "iopub.status.idle": "2025-06-04T13:31:15.105331Z",
     "shell.execute_reply": "2025-06-04T13:31:15.104182Z",
     "shell.execute_reply.started": "2025-06-04T13:31:15.099659Z"
    },
    "trusted": true
   },
   "outputs": [
    {
     "name": "stdout",
     "output_type": "stream",
     "text": [
      "love\n"
     ]
    }
   ],
   "source": [
    "#13\n",
    "string = \"I love Python!\"\n",
    "print(string[2:6])"
   ]
  },
  {
   "cell_type": "code",
   "execution_count": 18,
   "metadata": {
    "execution": {
     "iopub.execute_input": "2025-06-04T13:30:20.943266Z",
     "iopub.status.busy": "2025-06-04T13:30:20.942973Z",
     "iopub.status.idle": "2025-06-04T13:30:20.948927Z",
     "shell.execute_reply": "2025-06-04T13:30:20.947896Z",
     "shell.execute_reply.started": "2025-06-04T13:30:20.943247Z"
    },
    "trusted": true
   },
   "outputs": [
    {
     "name": "stdout",
     "output_type": "stream",
     "text": [
      "This is a good idea\n"
     ]
    }
   ],
   "source": [
    "#14\n",
    "Output = \"This is a bad idea\"\n",
    "final_sentence = Output.replace(\"bad\",\"good\")\n",
    "print(final_sentence)"
   ]
  },
  {
   "cell_type": "code",
   "execution_count": 17,
   "metadata": {
    "execution": {
     "iopub.execute_input": "2025-06-04T13:28:05.393651Z",
     "iopub.status.busy": "2025-06-04T13:28:05.393306Z",
     "iopub.status.idle": "2025-06-04T13:28:05.398329Z",
     "shell.execute_reply": "2025-06-04T13:28:05.397414Z",
     "shell.execute_reply.started": "2025-06-04T13:28:05.393628Z"
    },
    "trusted": true
   },
   "outputs": [
    {
     "name": "stdout",
     "output_type": "stream",
     "text": [
      "False\n"
     ]
    }
   ],
   "source": [
    "#15\n",
    "a = 1000\n",
    "b = 1000\n",
    "\n",
    "print(a is b)"
   ]
  }
 ],
 "metadata": {
  "kaggle": {
   "accelerator": "none",
   "dataSources": [],
   "dockerImageVersionId": 31040,
   "isGpuEnabled": false,
   "isInternetEnabled": false,
   "language": "python",
   "sourceType": "notebook"
  },
  "kernelspec": {
   "display_name": "Python 3",
   "language": "python",
   "name": "python3"
  },
  "language_info": {
   "codemirror_mode": {
    "name": "ipython",
    "version": 3
   },
   "file_extension": ".py",
   "mimetype": "text/x-python",
   "name": "python",
   "nbconvert_exporter": "python",
   "pygments_lexer": "ipython3",
   "version": "3.11.11"
  }
 },
 "nbformat": 4,
 "nbformat_minor": 4
}
