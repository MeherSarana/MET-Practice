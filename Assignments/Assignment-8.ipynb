{
 "cells": [
  {
   "cell_type": "code",
   "execution_count": 5,
   "id": "a37ca741",
   "metadata": {},
   "outputs": [
    {
     "data": {
      "text/plain": [
       "14"
      ]
     },
     "execution_count": 5,
     "metadata": {},
     "output_type": "execute_result"
    }
   ],
   "source": [
    "#1\n",
    "def sum_num(*number):\n",
    "    return sum(number)\n",
    "\n",
    "sum_num(2,3,4,5)"
   ]
  },
  {
   "cell_type": "code",
   "execution_count": 12,
   "id": "82d3b155",
   "metadata": {},
   "outputs": [
    {
     "name": "stdout",
     "output_type": "stream",
     "text": [
      "dict_keys(['name', 'Age'])\n"
     ]
    }
   ],
   "source": [
    "#2\n",
    "def keywords(**kwargs):\n",
    "    a = kwargs.keys()\n",
    "    print(str(a))\n",
    "\n",
    "keywords(name=\"John\",Age=35)"
   ]
  },
  {
   "cell_type": "code",
   "execution_count": 16,
   "id": "7a374645",
   "metadata": {},
   "outputs": [
    {
     "name": "stdout",
     "output_type": "stream",
     "text": [
      "2\n",
      "2\n",
      "3\n"
     ]
    }
   ],
   "source": [
    "#3\n",
    "while True:\n",
    "    a = input(\"Enter a Value:\")\n",
    "    if a.lower() == \"exit\":\n",
    "        break\n",
    "    print(a)"
   ]
  },
  {
   "cell_type": "code",
   "execution_count": 18,
   "id": "5d213660",
   "metadata": {},
   "outputs": [
    {
     "name": "stdout",
     "output_type": "stream",
     "text": [
      "1\n",
      "2\n",
      "3\n",
      "4\n",
      "5\n"
     ]
    }
   ],
   "source": [
    "#4\n",
    "i = 1\n",
    "while i <= 5:\n",
    "    print(i)  \n",
    "    i +=1  "
   ]
  },
  {
   "cell_type": "code",
   "execution_count": 21,
   "id": "d2d31484",
   "metadata": {},
   "outputs": [
    {
     "name": "stdout",
     "output_type": "stream",
     "text": [
      "3\n"
     ]
    }
   ],
   "source": [
    "#5\n",
    "def num():\n",
    "    while True:\n",
    "        user_ip = int(input(\"Enter a Number:\"))\n",
    "        if user_ip < 0:\n",
    "            print(user_ip)\n",
    "            continue\n",
    "        else:\n",
    "            print(user_ip)\n",
    "            break \n",
    "\n",
    "num()"
   ]
  },
  {
   "cell_type": "code",
   "execution_count": null,
   "id": "0d7b75d1",
   "metadata": {},
   "outputs": [
    {
     "name": "stdout",
     "output_type": "stream",
     "text": [
      "5\n"
     ]
    }
   ],
   "source": [
    "#6\n",
    "def largest_num(*args):\n",
    "    if not args:\n",
    "        return None  \n",
    "    max_num = args[0]\n",
    "    i = 1\n",
    "    while i < len(args):\n",
    "        if args[i] > max_num:\n",
    "            max_num = args[i]\n",
    "        i += 1\n",
    "    return max_num\n",
    "\n",
    "print(largest_num(1, 2, 3, 4,5))"
   ]
  },
  {
   "cell_type": "code",
   "execution_count": 2,
   "id": "4823efd0",
   "metadata": {},
   "outputs": [
    {
     "name": "stdout",
     "output_type": "stream",
     "text": [
      "['meher', 'ashwin']\n"
     ]
    }
   ],
   "source": [
    "#7\n",
    "list1 = []\n",
    "while True:\n",
    "    a = input(\"Enter a Name (type 'exit' to stop): \")\n",
    "    if a.lower() == 'exit':\n",
    "        break\n",
    "    list1.append(a)\n",
    "\n",
    "print(list1)"
   ]
  },
  {
   "cell_type": "code",
   "execution_count": 3,
   "id": "e0313669",
   "metadata": {},
   "outputs": [
    {
     "name": "stdout",
     "output_type": "stream",
     "text": [
      "30\n"
     ]
    }
   ],
   "source": [
    "#8\n",
    "def total_price(**kwargs):\n",
    "    return sum(kwargs[\"prices\"])\n",
    "\n",
    "a = total_price(names=[\"Meher\",'Wander'],prices=[2,4,6,8,10])\n",
    "print(a)"
   ]
  },
  {
   "cell_type": "code",
   "execution_count": 7,
   "id": "38271312",
   "metadata": {},
   "outputs": [
    {
     "name": "stdout",
     "output_type": "stream",
     "text": [
      "10\n",
      "9\n",
      "8\n",
      "7\n",
      "6\n",
      "4\n",
      "3\n",
      "2\n",
      "1\n"
     ]
    }
   ],
   "source": [
    "#9\n",
    "a = 10\n",
    "b = 0\n",
    "\n",
    "while b<a:\n",
    "    if a == 5:\n",
    "        a-=1\n",
    "        continue\n",
    "    print(a)\n",
    "    a-=1"
   ]
  },
  {
   "cell_type": "code",
   "execution_count": 1,
   "id": "6964eeae",
   "metadata": {},
   "outputs": [
    {
     "name": "stdout",
     "output_type": "stream",
     "text": [
      "Your age is: 20\n"
     ]
    }
   ],
   "source": [
    "#10\n",
    "def get_valid_age():\n",
    "    while True:\n",
    "        age = int(input(\"Enter your age: \"))\n",
    "        if age > 0:\n",
    "            return age\n",
    "        else:\n",
    "            print(\"Age must be greater than 0. Try again.\")\n",
    "    \n",
    "\n",
    "user_age = get_valid_age()\n",
    "print(f\"Your age is: {user_age}\")"
   ]
  }
 ],
 "metadata": {
  "kernelspec": {
   "display_name": "Python 3",
   "language": "python",
   "name": "python3"
  },
  "language_info": {
   "codemirror_mode": {
    "name": "ipython",
    "version": 3
   },
   "file_extension": ".py",
   "mimetype": "text/x-python",
   "name": "python",
   "nbconvert_exporter": "python",
   "pygments_lexer": "ipython3",
   "version": "3.11.4"
  }
 },
 "nbformat": 4,
 "nbformat_minor": 5
}
