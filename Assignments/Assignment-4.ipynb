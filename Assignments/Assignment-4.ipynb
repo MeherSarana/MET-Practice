{
 "cells": [
  {
   "cell_type": "code",
   "execution_count": 1,
   "metadata": {
    "execution": {
     "iopub.execute_input": "2025-06-10T13:24:40.259716Z",
     "iopub.status.busy": "2025-06-10T13:24:40.259114Z",
     "iopub.status.idle": "2025-06-10T13:24:40.271140Z",
     "shell.execute_reply": "2025-06-10T13:24:40.269958Z",
     "shell.execute_reply.started": "2025-06-10T13:24:40.259670Z"
    },
    "trusted": true
   },
   "outputs": [
    {
     "name": "stdout",
     "output_type": "stream",
     "text": [
      "{'Dosa': 'Rs.250', 'Idli': 'Rs.220', 'Sambar': 'Rs.200'}\n"
     ]
    }
   ],
   "source": [
    "#1\n",
    "food_items = {\n",
    "    \"Dosa\" : \"Rs.250\",\n",
    "    \"Idli\" : \"Rs.220\",\n",
    "    \"Sambar\": \"Rs.200\",\n",
    "}\n",
    "print(food_items)"
   ]
  },
  {
   "cell_type": "code",
   "execution_count": 29,
   "metadata": {
    "execution": {
     "iopub.execute_input": "2025-06-10T14:09:38.928009Z",
     "iopub.status.busy": "2025-06-10T14:09:38.927702Z",
     "iopub.status.idle": "2025-06-10T14:09:46.359648Z",
     "shell.execute_reply": "2025-06-10T14:09:46.358602Z",
     "shell.execute_reply.started": "2025-06-10T14:09:38.927987Z"
    },
    "trusted": true
   },
   "outputs": [
    {
     "name": "stdout",
     "output_type": "stream",
     "text": [
      "Enter 3 subjects and their marks:  Math 90 English 85 Science 95\n"
     ]
    },
    {
     "name": "stdout",
     "output_type": "stream",
     "text": [
      "{'Math': 90, 'English': 85, 'Science': 95}\n"
     ]
    }
   ],
   "source": [
    "#2\n",
    "input_data = input(\"Enter 3 subjects and their marks: \")\n",
    "data = input_data.split()\n",
    "subject_marks = {\n",
    "    data[0]: int(data[1]),\n",
    "    data[2]: int(data[3]),\n",
    "    data[4]: int(data[5])\n",
    "}\n",
    "\n",
    "print(subject_marks)\n"
   ]
  },
  {
   "cell_type": "code",
   "execution_count": 6,
   "metadata": {
    "execution": {
     "iopub.execute_input": "2025-06-10T13:29:16.835155Z",
     "iopub.status.busy": "2025-06-10T13:29:16.834867Z",
     "iopub.status.idle": "2025-06-10T13:29:16.840465Z",
     "shell.execute_reply": "2025-06-10T13:29:16.839469Z",
     "shell.execute_reply.started": "2025-06-10T13:29:16.835130Z"
    },
    "trusted": true
   },
   "outputs": [
    {
     "name": "stdout",
     "output_type": "stream",
     "text": [
      "{'name': 'Nigga', 'age': 35, 'grade': 'A', 'City': 'Hyderabad'}\n"
     ]
    }
   ],
   "source": [
    "#3\n",
    "student = {\n",
    "    \"name\" : \"Nigga\",\n",
    "    \"age\" : 35,\n",
    "    \"grade\" : \"A\"\n",
    "}\n",
    "student.update({\"City\":\"Hyderabad\"})\n",
    "print(student)"
   ]
  },
  {
   "cell_type": "code",
   "execution_count": 9,
   "metadata": {
    "execution": {
     "iopub.execute_input": "2025-06-10T13:31:39.481472Z",
     "iopub.status.busy": "2025-06-10T13:31:39.481210Z",
     "iopub.status.idle": "2025-06-10T13:31:39.487480Z",
     "shell.execute_reply": "2025-06-10T13:31:39.486275Z",
     "shell.execute_reply.started": "2025-06-10T13:31:39.481454Z"
    },
    "trusted": true
   },
   "outputs": [
    {
     "name": "stdout",
     "output_type": "stream",
     "text": [
      "{'a': 1, 'b': 3, 'c': 4}\n"
     ]
    }
   ],
   "source": [
    "#4\n",
    "dict1 = {'a': 1, 'b': 2}\n",
    "dict2 = {'b': 3, 'c': 4}\n",
    "\n",
    "dict1.update(dict2)\n",
    "print(dict1)"
   ]
  },
  {
   "cell_type": "code",
   "execution_count": 16,
   "metadata": {
    "execution": {
     "iopub.execute_input": "2025-06-10T13:39:33.389302Z",
     "iopub.status.busy": "2025-06-10T13:39:33.389025Z",
     "iopub.status.idle": "2025-06-10T13:39:33.395387Z",
     "shell.execute_reply": "2025-06-10T13:39:33.394156Z",
     "shell.execute_reply.started": "2025-06-10T13:39:33.389284Z"
    },
    "trusted": true
   },
   "outputs": [
    {
     "name": "stdout",
     "output_type": "stream",
     "text": [
      "{'Skills': 'Java', 'skills': 'C++'}\n"
     ]
    }
   ],
   "source": [
    "#5\n",
    "personA = {\"Skills\" : \"Java\",}\n",
    "personB = {\"skills\" : \"C++\",}\n",
    "merge_users = {**personA,**personB}\n",
    "print(merge_users)"
   ]
  },
  {
   "cell_type": "code",
   "execution_count": 14,
   "metadata": {
    "execution": {
     "iopub.execute_input": "2025-06-10T13:37:35.873470Z",
     "iopub.status.busy": "2025-06-10T13:37:35.873142Z",
     "iopub.status.idle": "2025-06-10T13:37:35.879082Z",
     "shell.execute_reply": "2025-06-10T13:37:35.877924Z",
     "shell.execute_reply.started": "2025-06-10T13:37:35.873444Z"
    },
    "trusted": true
   },
   "outputs": [
    {
     "name": "stdout",
     "output_type": "stream",
     "text": [
      "dict_keys(['apple', 'banana', 'orange'])\n"
     ]
    }
   ],
   "source": [
    "#6\n",
    "fruits = {'apple': 5, 'banana': 3, 'orange': 8}\n",
    "a = fruits.keys()\n",
    "print(a)"
   ]
  },
  {
   "cell_type": "code",
   "execution_count": 15,
   "metadata": {
    "execution": {
     "iopub.execute_input": "2025-06-10T13:38:57.186357Z",
     "iopub.status.busy": "2025-06-10T13:38:57.186068Z",
     "iopub.status.idle": "2025-06-10T13:38:57.193107Z",
     "shell.execute_reply": "2025-06-10T13:38:57.192055Z",
     "shell.execute_reply.started": "2025-06-10T13:38:57.186333Z"
    },
    "trusted": true
   },
   "outputs": [
    {
     "name": "stdout",
     "output_type": "stream",
     "text": [
      "dict_values(['#FF0000', '#00FF00', '#0000FF'])\n"
     ]
    }
   ],
   "source": [
    "#7\n",
    "colour = {'red': '#FF0000', 'green': '#00FF00', 'blue': '#0000FF'}\n",
    "a = colour.values()\n",
    "print(a)"
   ]
  },
  {
   "cell_type": "code",
   "execution_count": 17,
   "metadata": {
    "execution": {
     "iopub.execute_input": "2025-06-10T13:41:20.646290Z",
     "iopub.status.busy": "2025-06-10T13:41:20.645994Z",
     "iopub.status.idle": "2025-06-10T13:41:20.651643Z",
     "shell.execute_reply": "2025-06-10T13:41:20.650763Z",
     "shell.execute_reply.started": "2025-06-10T13:41:20.646269Z"
    },
    "trusted": true
   },
   "outputs": [
    {
     "name": "stdout",
     "output_type": "stream",
     "text": [
      "{'pen': 2, 'eraser': 1} \n",
      " 5\n"
     ]
    }
   ],
   "source": [
    "#8\n",
    "items = {'pen': 2, 'pencil': 5, 'eraser': 1}\n",
    "value = items.pop('pencil')\n",
    "print(items,\"\\n\",value)"
   ]
  },
  {
   "cell_type": "code",
   "execution_count": 18,
   "metadata": {
    "execution": {
     "iopub.execute_input": "2025-06-10T13:43:40.695716Z",
     "iopub.status.busy": "2025-06-10T13:43:40.695298Z",
     "iopub.status.idle": "2025-06-10T13:43:40.701161Z",
     "shell.execute_reply": "2025-06-10T13:43:40.700210Z",
     "shell.execute_reply.started": "2025-06-10T13:43:40.695691Z"
    },
    "trusted": true
   },
   "outputs": [
    {
     "name": "stdout",
     "output_type": "stream",
     "text": [
      "None\n"
     ]
    }
   ],
   "source": [
    "#9\n",
    "items = {'pen': 2, 'pencil': 5, 'eraser': 1}\n",
    "a = items.get(\"marker\")\n",
    "print(a)"
   ]
  },
  {
   "cell_type": "code",
   "execution_count": 19,
   "metadata": {
    "execution": {
     "iopub.execute_input": "2025-06-10T13:45:31.535167Z",
     "iopub.status.busy": "2025-06-10T13:45:31.534890Z",
     "iopub.status.idle": "2025-06-10T13:45:31.540639Z",
     "shell.execute_reply": "2025-06-10T13:45:31.539632Z",
     "shell.execute_reply.started": "2025-06-10T13:45:31.535149Z"
    },
    "trusted": true
   },
   "outputs": [
    {
     "name": "stdout",
     "output_type": "stream",
     "text": [
      "{'Audi RS7': 2018} \n",
      " ('Volvo C12', 2019)\n"
     ]
    }
   ],
   "source": [
    "#10\n",
    "cars = {\n",
    "    \"Audi RS7\" : 2018,\n",
    "    \"Volvo C12\" : 2019,\n",
    "}\n",
    "a =cars.popitem()\n",
    "print(cars,\"\\n\",a)"
   ]
  },
  {
   "cell_type": "code",
   "execution_count": 20,
   "metadata": {
    "execution": {
     "iopub.execute_input": "2025-06-10T13:49:10.754861Z",
     "iopub.status.busy": "2025-06-10T13:49:10.754528Z",
     "iopub.status.idle": "2025-06-10T13:49:10.762215Z",
     "shell.execute_reply": "2025-06-10T13:49:10.761251Z",
     "shell.execute_reply.started": "2025-06-10T13:49:10.754839Z"
    },
    "trusted": true
   },
   "outputs": [
    {
     "name": "stdout",
     "output_type": "stream",
     "text": [
      "{}\n"
     ]
    }
   ],
   "source": [
    "#11\n",
    "books = {\n",
    "    \"Three Men in Boat\" : \"Thomas\",\n",
    "    \"Wimpy Kid\" : \"Robert\"\n",
    "}\n",
    "books.clear()\n",
    "print(books)"
   ]
  },
  {
   "cell_type": "code",
   "execution_count": 21,
   "metadata": {
    "execution": {
     "iopub.execute_input": "2025-06-10T13:49:58.435068Z",
     "iopub.status.busy": "2025-06-10T13:49:58.434758Z",
     "iopub.status.idle": "2025-06-10T13:49:58.445777Z",
     "shell.execute_reply": "2025-06-10T13:49:58.444506Z",
     "shell.execute_reply.started": "2025-06-10T13:49:58.435044Z"
    },
    "trusted": true
   },
   "outputs": [
    {
     "ename": "NameError",
     "evalue": "name 'books' is not defined",
     "output_type": "error",
     "traceback": [
      "\u001b[0;31m---------------------------------------------------------------------------\u001b[0m",
      "\u001b[0;31mNameError\u001b[0m                                 Traceback (most recent call last)",
      "\u001b[0;32m/tmp/ipykernel_35/3809120730.py\u001b[0m in \u001b[0;36m<cell line: 0>\u001b[0;34m()\u001b[0m\n\u001b[1;32m      5\u001b[0m }\n\u001b[1;32m      6\u001b[0m \u001b[0;32mdel\u001b[0m \u001b[0mbooks\u001b[0m\u001b[0;34m\u001b[0m\u001b[0;34m\u001b[0m\u001b[0m\n\u001b[0;32m----> 7\u001b[0;31m \u001b[0mprint\u001b[0m\u001b[0;34m(\u001b[0m\u001b[0mbooks\u001b[0m\u001b[0;34m)\u001b[0m\u001b[0;34m\u001b[0m\u001b[0;34m\u001b[0m\u001b[0m\n\u001b[0m",
      "\u001b[0;31mNameError\u001b[0m: name 'books' is not defined"
     ]
    }
   ],
   "source": [
    "#12\n",
    "books = {\n",
    "    \"Three Men in Boat\" : \"Thomas\",\n",
    "    \"Wimpy Kid\" : \"Robert\"\n",
    "}\n",
    "del books\n",
    "print(books)"
   ]
  },
  {
   "cell_type": "code",
   "execution_count": 23,
   "metadata": {
    "execution": {
     "iopub.execute_input": "2025-06-10T13:55:58.962446Z",
     "iopub.status.busy": "2025-06-10T13:55:58.962128Z",
     "iopub.status.idle": "2025-06-10T13:55:58.971891Z",
     "shell.execute_reply": "2025-06-10T13:55:58.969750Z",
     "shell.execute_reply.started": "2025-06-10T13:55:58.962422Z"
    },
    "trusted": true
   },
   "outputs": [
    {
     "name": "stdout",
     "output_type": "stream",
     "text": [
      "{'name': 'John', 'age': 25, 'city': 'NYC'}\n"
     ]
    }
   ],
   "source": [
    "#13\n",
    "list1 =  ['name', 'age', 'city'] \n",
    "list2 =  ['John', 25, 'NYC'] \n",
    "\n",
    "a = zip(list1, list2)\n",
    "print(dict(a))"
   ]
  },
  {
   "cell_type": "code",
   "execution_count": 32,
   "metadata": {
    "execution": {
     "iopub.execute_input": "2025-06-10T14:20:09.451948Z",
     "iopub.status.busy": "2025-06-10T14:20:09.451424Z",
     "iopub.status.idle": "2025-06-10T14:20:21.658426Z",
     "shell.execute_reply": "2025-06-10T14:20:21.657525Z",
     "shell.execute_reply.started": "2025-06-10T14:20:09.451923Z"
    },
    "trusted": true
   },
   "outputs": [
    {
     "name": "stdout",
     "output_type": "stream",
     "text": [
      "Enter 5 words separated by spaces:  One Two One Three One\n"
     ]
    },
    {
     "name": "stdout",
     "output_type": "stream",
     "text": [
      "{'One': 3, 'Two': 1, 'Three': 1}\n"
     ]
    }
   ],
   "source": [
    "#14\n",
    "words = input(\"Enter 5 words separated by spaces: \").split()\n",
    "\n",
    "freq = {}\n",
    "if len(words) == 5:\n",
    "    freq[words[0]] = freq.get(words[0], 0) + 1\n",
    "    freq[words[1]] = freq.get(words[1], 0) + 1\n",
    "    freq[words[2]] = freq.get(words[2], 0) + 1\n",
    "    freq[words[3]] = freq.get(words[3], 0) + 1\n",
    "    freq[words[4]] = freq.get(words[4], 0) + 1\n",
    "    \n",
    "    print(freq)"
   ]
  },
  {
   "cell_type": "code",
   "execution_count": 2,
   "metadata": {
    "trusted": true
   },
   "outputs": [
    {
     "name": "stdout",
     "output_type": "stream",
     "text": [
      "20\n",
      "30\n"
     ]
    }
   ],
   "source": [
    "#15\n",
    "values =  {'x': 10, 'y': 20, 'z': 30}\n",
    "if values['x'] > 15:\n",
    "    print(values['x'])\n",
    "if values['y'] > 15:\n",
    "    print(values['y'])\n",
    "if values['z'] > 15:\n",
    "    print(values['z'])"
   ]
  },
  {
   "cell_type": "code",
   "execution_count": 28,
   "metadata": {
    "execution": {
     "iopub.execute_input": "2025-06-10T14:05:43.873462Z",
     "iopub.status.busy": "2025-06-10T14:05:43.873174Z",
     "iopub.status.idle": "2025-06-10T14:05:43.878895Z",
     "shell.execute_reply": "2025-06-10T14:05:43.877590Z",
     "shell.execute_reply.started": "2025-06-10T14:05:43.873440Z"
    },
    "trusted": true
   },
   "outputs": [
    {
     "name": "stdout",
     "output_type": "stream",
     "text": [
      "2\n"
     ]
    }
   ],
   "source": [
    "#16\n",
    "movies = {\n",
    "    \"Mission Impossible\":2008,\n",
    "    \"Final Destination\" :2025\n",
    "}\n",
    "print(len(movies))"
   ]
  },
  {
   "cell_type": "code",
   "execution_count": 24,
   "metadata": {
    "execution": {
     "iopub.execute_input": "2025-06-10T13:58:22.680208Z",
     "iopub.status.busy": "2025-06-10T13:58:22.679895Z",
     "iopub.status.idle": "2025-06-10T13:58:22.686880Z",
     "shell.execute_reply": "2025-06-10T13:58:22.685651Z",
     "shell.execute_reply.started": "2025-06-10T13:58:22.680187Z"
    },
    "trusted": true
   },
   "outputs": [
    {
     "name": "stdout",
     "output_type": "stream",
     "text": [
      "True\n"
     ]
    }
   ],
   "source": [
    "#17\n",
    "langs = {'java': 1995, 'python': 1991, 'c++': 1985}\n",
    "print('python' in langs)"
   ]
  },
  {
   "cell_type": "code",
   "execution_count": 4,
   "metadata": {
    "trusted": true
   },
   "outputs": [
    {
     "name": "stdout",
     "output_type": "stream",
     "text": [
      "Math Grade: 88\n"
     ]
    }
   ],
   "source": [
    "#18\n",
    "student = {\n",
    "    'personal_info':{\n",
    "        'name' : 'John Doe',\n",
    "        'age' : 20,\n",
    "        'id' : 'A1'\n",
    "    },\n",
    "    'grades':{\n",
    "        'math' : 88,\n",
    "        'science' : 92,\n",
    "        'english' : 85\n",
    "    }\n",
    "}\n",
    "print(\"Math Grade:\", student['grades']['math'])"
   ]
  },
  {
   "cell_type": "code",
   "execution_count": 7,
   "metadata": {
    "trusted": true
   },
   "outputs": [
    {
     "name": "stdout",
     "output_type": "stream",
     "text": [
      "{'h': 104, 'e': 101, 'l': 108, 'o': 111}\n"
     ]
    }
   ],
   "source": [
    "#19\n",
    "string1 = \"hello\"\n",
    "ascii_dict = {char : ord(char) for char in string1}\n",
    "print(ascii_dict)"
   ]
  },
  {
   "cell_type": "code",
   "execution_count": 25,
   "metadata": {
    "execution": {
     "iopub.execute_input": "2025-06-10T14:03:16.489498Z",
     "iopub.status.busy": "2025-06-10T14:03:16.489180Z",
     "iopub.status.idle": "2025-06-10T14:03:16.496327Z",
     "shell.execute_reply": "2025-06-10T14:03:16.495163Z",
     "shell.execute_reply.started": "2025-06-10T14:03:16.489477Z"
    },
    "trusted": true
   },
   "outputs": [
    {
     "name": "stdout",
     "output_type": "stream",
     "text": [
      "25\n",
      "35\n"
     ]
    }
   ],
   "source": [
    "#20\n",
    "\n",
    "person = {\n",
    "    \"age\" : 25,\n",
    "    \"name\" : \"Alex\",\n",
    "}\n",
    "\n",
    "person_2 = person.copy() \n",
    "person[\"age\"] = 35\n",
    "print(person_2[\"age\"]) \n",
    "print(person[\"age\"]) "
   ]
  }
 ],
 "metadata": {
  "kaggle": {
   "accelerator": "none",
   "dataSources": [],
   "dockerImageVersionId": 31040,
   "isGpuEnabled": false,
   "isInternetEnabled": false,
   "language": "python",
   "sourceType": "notebook"
  },
  "kernelspec": {
   "display_name": "Python 3",
   "language": "python",
   "name": "python3"
  },
  "language_info": {
   "codemirror_mode": {
    "name": "ipython",
    "version": 3
   },
   "file_extension": ".py",
   "mimetype": "text/x-python",
   "name": "python",
   "nbconvert_exporter": "python",
   "pygments_lexer": "ipython3",
   "version": "3.11.4"
  }
 },
 "nbformat": 4,
 "nbformat_minor": 4
}
