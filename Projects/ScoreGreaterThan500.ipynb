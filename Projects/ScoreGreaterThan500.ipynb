{
 "cells": [
  {
   "cell_type": "code",
   "execution_count": null,
   "id": "bba987ca",
   "metadata": {},
   "outputs": [
    {
     "name": "stdout",
     "output_type": "stream",
     "text": [
      "Every word with score greater than 950\n",
      "open\n",
      "great\n",
      "vast\n",
      "deep\n",
      "western\n",
      "atlantic\n",
      "wide\n",
      "indian\n",
      "blue\n",
      "southern\n",
      "eastern\n",
      "whole\n",
      "mighty\n",
      "boundless\n",
      "tropical\n",
      "northern\n",
      "broad\n",
      "dark\n",
      "stormy\n",
      "infinite\n",
      "entire\n",
      "central\n",
      "upper\n",
      "equatorial\n",
      "inter\n",
      "north\n",
      "coastal\n",
      "distant\n",
      "unknown\n",
      "mid\n",
      "immense\n",
      "lndian\n",
      "global\n",
      "big\n",
      "primeval\n",
      "warm\n",
      "wild\n",
      "frozen\n",
      "endless\n",
      "green\n",
      "german\n",
      "shoreless\n",
      "cold\n",
      "calm\n",
      "empty\n",
      "limitless\n",
      "restless\n",
      "south\n",
      "trackless\n",
      "tempestuous\n",
      "troubled\n"
     ]
    }
   ],
   "source": [
    "import requests\n",
    "import streamlit as st\n",
    " \n",
    "print(\"Every word with score greater than 950\")\n",
    "choice = input('Enter a word:')\n",
    "endpoint = f\"https://api.datamuse.com/words?rel_jjb={choice}\"\n",
    " \n",
    "response = requests.get(endpoint)\n",
    " \n",
    "data = response.json()\n",
    " \n",
    "if response.status_code == 200:\n",
    "    for item in data:\n",
    "        if item.get('score') > 950:\n",
    "            print(item.get('word'))        "
   ]
  }
 ],
 "metadata": {
  "kernelspec": {
   "display_name": "Python 3",
   "language": "python",
   "name": "python3"
  },
  "language_info": {
   "codemirror_mode": {
    "name": "ipython",
    "version": 3
   },
   "file_extension": ".py",
   "mimetype": "text/x-python",
   "name": "python",
   "nbconvert_exporter": "python",
   "pygments_lexer": "ipython3",
   "version": "3.11.4"
  }
 },
 "nbformat": 4,
 "nbformat_minor": 5
}
