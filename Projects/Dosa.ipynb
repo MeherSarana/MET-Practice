{
 "cells": [
  {
   "cell_type": "code",
   "execution_count": null,
   "id": "37132acc",
   "metadata": {},
   "outputs": [
    {
     "name": "stdout",
     "output_type": "stream",
     "text": [
      "\n",
      "\n",
      "#####WELCOME TO SO AND SO HOTEL######\n",
      "BILL ID: 5440\n",
      "\n",
      "idly X 35 = 70\n",
      "vada X 50 = 100\n",
      "-------------------------------------------------------------------\n",
      "GST: 0%\n",
      "TAXES: 0%\n",
      "------------------------------------TOTAL BILL: Rs.170/----\n",
      "\n",
      "THANKS FOR VISITING US\n",
      "\n",
      "\n"
     ]
    }
   ],
   "source": [
    "#1 Any Customer will order two items\n",
    "#2 Any Customer will enter quantity for each dish\n",
    "# Calculate the total bill for the user.\n",
    "\n",
    "#1. what you want to acheive?\n",
    "   ## Total Bill\n",
    "#2. What do u need to acheive that?\n",
    "   # Dishes and their prices\n",
    "   # What user wants \n",
    "   # how many the user wants\n",
    "#3. Arrange the order\n",
    "   # Dishes and their prices - Done\n",
    "   # What user wants - DOne\n",
    "   # how many the user wants\n",
    "   #Total Bill\n",
    "#4. write the code\n",
    "\n",
    "total_bill = 0\n",
    "menu = {\n",
    "    \"dosa\" : 40,\n",
    "    \"idly\" : 35,\n",
    "    \"poori\" : 45, # type: ignore\n",
    "    \"vada\" : 50,\n",
    "    \"upma\" : 30\n",
    "}\n",
    "dish_one_choice = input(\"What do you want ?\")\n",
    "dish_one_count = int(input(\"How many ?\"))\n",
    "\n",
    "\n",
    "dish_two_choice = input(\"What do you want ?\")\n",
    "dish_two_count = int(input(\"How many ?\"))\n",
    "\n",
    "dish_one_bill = (dish_one_count*menu.get(dish_one_choice))\n",
    "dish_two_bill = (dish_two_count*menu.get(dish_two_choice))\n",
    "# total_bill = (dish_one_count*menu.get(dish_one_choice)) + (dish_two_count*menu.get(dish_two_choice))\n",
    "# print(f\"Your Total Bill is {total_bill}\")\n",
    "\n",
    "total_bill =  dish_one_bill + dish_two_bill\n",
    "\n",
    "detailed_bill = f'''\n",
    "\n",
    "#####WELCOME TO SO AND SO HOTEL######\n",
    "BILL ID: {total_bill * 32}\n",
    "\n",
    "{dish_one_choice} X {menu.get(dish_one_choice)} = {dish_one_bill}\n",
    "{dish_two_choice} X {menu.get(dish_two_choice)} = {dish_two_bill}\n",
    "-------------------------------------------------------------------\n",
    "GST: 0%\n",
    "TAXES: 0%\n",
    "------------------------------------TOTAL BILL: Rs.{total_bill}/----\n",
    "\n",
    "THANKS FOR VISITING US\n",
    "\n",
    "'''\n",
    "\n",
    "print(detailed_bill)"
   ]
  }
 ],
 "metadata": {
  "kernelspec": {
   "display_name": "Python 3",
   "language": "python",
   "name": "python3"
  },
  "language_info": {
   "codemirror_mode": {
    "name": "ipython",
    "version": 3
   },
   "file_extension": ".py",
   "mimetype": "text/x-python",
   "name": "python",
   "nbconvert_exporter": "python",
   "pygments_lexer": "ipython3",
   "version": "3.11.4"
  }
 },
 "nbformat": 4,
 "nbformat_minor": 5
}
