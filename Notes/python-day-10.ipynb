{
 "cells": [
  {
   "cell_type": "code",
   "execution_count": 4,
   "id": "23b9e507",
   "metadata": {},
   "outputs": [
    {
     "name": "stdout",
     "output_type": "stream",
     "text": [
      "works\n",
      "1\n",
      "2\n",
      "Two\n"
     ]
    }
   ],
   "source": [
    "#Conditional Statements\n",
    "\n",
    "#1\n",
    "if True:\n",
    "    print(\"works\")\n",
    "\n",
    "#2\n",
    "if True:\n",
    "    print(\"1\")\n",
    "else:\n",
    "    print(\"2\")\n",
    "\n",
    "#3\n",
    "a,b = 1,3\n",
    "if a>b:\n",
    "    print(\"1\")\n",
    "elif b>a:\n",
    "    print(\"2\")\n",
    "else:\n",
    "    print(\"Done\")\n",
    "\n",
    "#4\n",
    "a,b = 3,1\n",
    "if a==b:\n",
    "    print(\"One\")\n",
    "elif a>b:\n",
    "    print(\"Two\")\n"
   ]
  },
  {
   "cell_type": "code",
   "execution_count": null,
   "id": "bfcac925",
   "metadata": {},
   "outputs": [
    {
     "name": "stdout",
     "output_type": "stream",
     "text": [
      "One\n",
      "Two\n",
      "Three\n",
      "Three\n",
      "Done With the Flow\n",
      "Hello 1\n",
      "Hello 2\n",
      "Hello 3\n"
     ]
    }
   ],
   "source": [
    "#Nested Conditional Statements\n",
    "\n",
    "#1\n",
    "a = 1\n",
    "if a>0:\n",
    "    print(\"One\")\n",
    "    print(\"Two\")\n",
    "    print(\"Three\")\n",
    "    if a>2:\n",
    "        print(\"Two\")\n",
    "    elif a == 1:\n",
    "        print(\"Three\")\n",
    "print(\"Done With the Flow\")\n",
    "\n",
    "\n",
    "#2\n",
    "a,b,c = 1,2,3\n",
    "\n",
    "if b>c:\n",
    "    print(\"Hello 1\")\n",
    "elif c>b:\n",
    "    print(\"Hello 1\")\n",
    "    if b>a:\n",
    "        print(\"Hello 2\")\n",
    "        print(\"Hello 3\")\n",
    "    elif c>a:\n",
    "        print(\"Hello 4\")\n",
    "        print(\"Hello 5\")\n",
    "    else:\n",
    "        print(\"NO Hello\")\n",
    "else:\n",
    "    print(\"NO Hello\")\n",
    "\n",
    "##Note:\n",
    "#1.Check if it is a valid combo\n",
    "#2.For every if,else,elif block, indentation must be at same level\n",
    "#3.At any point, only block will be executed in a given combo"
   ]
  }
 ],
 "metadata": {
  "kernelspec": {
   "display_name": "Python 3",
   "language": "python",
   "name": "python3"
  },
  "language_info": {
   "codemirror_mode": {
    "name": "ipython",
    "version": 3
   },
   "file_extension": ".py",
   "mimetype": "text/x-python",
   "name": "python",
   "nbconvert_exporter": "python",
   "pygments_lexer": "ipython3",
   "version": "3.11.4"
  }
 },
 "nbformat": 4,
 "nbformat_minor": 5
}
