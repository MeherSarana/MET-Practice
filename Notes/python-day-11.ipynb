{
 "cells": [
  {
   "cell_type": "code",
   "execution_count": 3,
   "id": "067c1c74",
   "metadata": {},
   "outputs": [
    {
     "name": "stdout",
     "output_type": "stream",
     "text": [
      "7\n",
      "3\n",
      "10\n",
      "2.5\n",
      "2\n",
      "25\n"
     ]
    }
   ],
   "source": [
    "# Function\n",
    "\n",
    "# Calci\n",
    "\n",
    "a = int(input(\"Enter the First Number\"))\n",
    "b = int(input(\"Enter the Second Number\"))\n",
    "\n",
    "def add(num1,num2):\n",
    "    return num1+num2\n",
    "\n",
    "\n",
    "def sub(num1,num2):\n",
    "    return num1-num2\n",
    "\n",
    "\n",
    "def mul(num1,num2):\n",
    "    return num1*num2\n",
    "\n",
    "def div(num1,num2):\n",
    "    return num1/num2\n",
    "\n",
    "\n",
    "def fdiv(num1,num2):\n",
    "    return num1//num2\n",
    "\n",
    "\n",
    "def power(num1,num2):\n",
    "    return num1**num2\n",
    "\n",
    "print(add(a,b))\n",
    "print(sub(a,b))\n",
    "print(mul(a,b))\n",
    "print(div(a,b))\n",
    "print(fdiv(a,b))\n",
    "print(power(a,b))"
   ]
  }
 ],
 "metadata": {
  "kernelspec": {
   "display_name": "Python 3",
   "language": "python",
   "name": "python3"
  },
  "language_info": {
   "codemirror_mode": {
    "name": "ipython",
    "version": 3
   },
   "file_extension": ".py",
   "mimetype": "text/x-python",
   "name": "python",
   "nbconvert_exporter": "python",
   "pygments_lexer": "ipython3",
   "version": "3.11.4"
  }
 },
 "nbformat": 4,
 "nbformat_minor": 5
}
