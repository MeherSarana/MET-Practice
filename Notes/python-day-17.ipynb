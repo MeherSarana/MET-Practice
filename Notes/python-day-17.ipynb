{
 "cells": [
  {
   "cell_type": "code",
   "execution_count": null,
   "id": "b60f885c",
   "metadata": {},
   "outputs": [
    {
     "name": "stdout",
     "output_type": "stream",
     "text": [
      "A\n"
     ]
    }
   ],
   "source": [
    "#Inheritance\n",
    "\n",
    "class Person:\n",
    "    def __init__(self,name,age):\n",
    "        self.name = name\n",
    "        self.age = age\n",
    "    \n",
    "    def get_name(self):\n",
    "        return self.name\n",
    "\n",
    "class Student(Person):\n",
    "    def __init__(self, name, age):\n",
    "        super().__init__(name,age)\n",
    "        self.grade = 'A'\n",
    "\n",
    "student = Student(\"Ally\",30)\n",
    "print(student.grade)"
   ]
  },
  {
   "cell_type": "code",
   "execution_count": 3,
   "id": "5e4826fb",
   "metadata": {},
   "outputs": [
    {
     "name": "stdout",
     "output_type": "stream",
     "text": [
      "Moves...\n",
      "Sails...\n",
      "Fly....\n"
     ]
    }
   ],
   "source": [
    "#Polymorphism\n",
    "\n",
    "class Car:\n",
    "\n",
    "    def __init__(self,brand,model):\n",
    "        self.brand = brand\n",
    "        self.model = model\n",
    "    \n",
    "    def move(self):\n",
    "        print('Moves...')\n",
    "\n",
    "class Boat:\n",
    "\n",
    "    def __init__(self,brand,model):\n",
    "        self.brand = brand\n",
    "        self.model = model\n",
    "    \n",
    "    def move(self):\n",
    "        print('Sails...')\n",
    "\n",
    "class Plane:\n",
    "\n",
    "    def __init__(self,brand,model):\n",
    "        self.brand = brand\n",
    "        self.model = model\n",
    "    \n",
    "    def move(self):\n",
    "        print('Fly....')\n",
    "\n",
    "car = Car(\"Ford\",\"V3\")\n",
    "boat = Boat(\"Boat Company\",\"V1\")\n",
    "plane = Plane(\"Boeing\",\"747\")\n",
    "\n",
    "for vehicle in (car,boat,plane):\n",
    "    vehicle.move()"
   ]
  },
  {
   "cell_type": "code",
   "execution_count": 6,
   "id": "f27fc12f",
   "metadata": {},
   "outputs": [
    {
     "name": "stdout",
     "output_type": "stream",
     "text": [
      "Drawing Square..\n",
      "Drawing Circle..\n"
     ]
    }
   ],
   "source": [
    "class Polygon:\n",
    "\n",
    "    def show(self):\n",
    "        print(\"Drawing Polygon\")\n",
    "\n",
    "class Square(Polygon):\n",
    "\n",
    "    def show(self):\n",
    "        print(\"Drawing Square..\")\n",
    "\n",
    "class Circle(Polygon):\n",
    "\n",
    "    def show(self):\n",
    "        print(\"Drawing Circle..\")\n",
    "\n",
    "sq1 = Square()\n",
    "sq1.show()\n",
    "\n",
    "c1 = Circle()\n",
    "c1.show()"
   ]
  },
  {
   "cell_type": "code",
   "execution_count": 9,
   "id": "1e831ea6",
   "metadata": {},
   "outputs": [
    {
     "name": "stdout",
     "output_type": "stream",
     "text": [
      "paying through phonepe\n"
     ]
    }
   ],
   "source": [
    "class Phonepe:\n",
    "\n",
    "    def pay(self):\n",
    "        print(\"paying through phonepe\")\n",
    "\n",
    "class Paytm:\n",
    "\n",
    "    def pay(self):\n",
    "        print(\"paying through Paytm\")\n",
    "\n",
    "def get_payment_mode(user_choice):\n",
    "    if user_choice.lower() == \"phonepe\":\n",
    "        payment_mode = Phonepe()\n",
    "    elif user_choice.lower() == \"Paytm\":\n",
    "        payment_mode = Paytm()\n",
    "    return payment_mode\n",
    "\n",
    "user_choice = 'phonepe'\n",
    "payment_mode = get_payment_mode(user_choice)\n",
    "payment_mode.pay()\n",
    "\n"
   ]
  }
 ],
 "metadata": {
  "kernelspec": {
   "display_name": "Python 3",
   "language": "python",
   "name": "python3"
  },
  "language_info": {
   "codemirror_mode": {
    "name": "ipython",
    "version": 3
   },
   "file_extension": ".py",
   "mimetype": "text/x-python",
   "name": "python",
   "nbconvert_exporter": "python",
   "pygments_lexer": "ipython3",
   "version": "3.11.4"
  }
 },
 "nbformat": 4,
 "nbformat_minor": 5
}
