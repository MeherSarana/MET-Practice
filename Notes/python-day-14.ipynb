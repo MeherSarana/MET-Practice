{
 "cells": [
  {
   "cell_type": "code",
   "execution_count": null,
   "id": "e6980cd2",
   "metadata": {},
   "outputs": [],
   "source": [
    "# Object Oriented Programming\n",
    "\n",
    "#Classes and Obj\n",
    "class AC:\n",
    "    def __init__(self, brand, color):\n",
    "        self.brand = brand\n",
    "        self.color = color\n",
    "    def turn_on(self):\n",
    "        print(f\"Turning on {self.brand} AC...\")\n",
    "    def turn_off(self):\n",
    "        print(\"Turning off AC...\")\n",
    "ac = AC('samsung', 'white')\n",
    "ac.brand = 'LG'\n",
    "ac2 = AC('HAIER', 'white')\n",
    "print(ac2.brand)"
   ]
  },
  {
   "cell_type": "code",
   "execution_count": 2,
   "id": "dda3adca",
   "metadata": {},
   "outputs": [
    {
     "name": "stdout",
     "output_type": "stream",
     "text": [
      "i10 car is started\n",
      "None\n",
      "i10 is moving at a 20kms/hr\n",
      "None\n",
      "Silence\n",
      "None\n"
     ]
    }
   ],
   "source": [
    "class Car:\n",
    "    def __init__(self,brand,color,year):\n",
    "        self.brand = brand\n",
    "        self.color = color\n",
    "        self.year_of_m = year\n",
    "        self.break_down = False\n",
    "    \n",
    "    def turn_on(self):\n",
    "        if not self.break_down:\n",
    "            print(f\"{self.brand} car is started\")\n",
    "    \n",
    "    def move_forward(self,kms):\n",
    "        if not self.break_down:\n",
    "            print(f\"{self.brand} is moving at a {kms}kms/hr\")\n",
    "    \n",
    "    def broke_down(self):\n",
    "        self.break_down = True\n",
    "        print(\"Silence\")\n",
    "\n",
    "car = Car(\"i10\",\"white\",\"2010\")\n",
    "print(car.turn_on())\n",
    "print(car.move_forward(20))\n",
    "print(car.broke_down())"
   ]
  }
 ],
 "metadata": {
  "kernelspec": {
   "display_name": "Python 3",
   "language": "python",
   "name": "python3"
  },
  "language_info": {
   "codemirror_mode": {
    "name": "ipython",
    "version": 3
   },
   "file_extension": ".py",
   "mimetype": "text/x-python",
   "name": "python",
   "nbconvert_exporter": "python",
   "pygments_lexer": "ipython3",
   "version": "3.11.4"
  }
 },
 "nbformat": 4,
 "nbformat_minor": 5
}
