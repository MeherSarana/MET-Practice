{
 "cells": [
  {
   "cell_type": "code",
   "execution_count": null,
   "id": "8f87c355",
   "metadata": {},
   "outputs": [
    {
     "name": "stdout",
     "output_type": "stream",
     "text": [
      "[['Jack', 'Apple'], ['Orange', 'kwi'], ['dragon', 'grape']]\n",
      "w\n"
     ]
    }
   ],
   "source": [
    "#List inside List\n",
    "\n",
    "fruits = [\n",
    "    [\"Jack\",\"Apple\"],\n",
    "    [\"Orange\",\"kwi\"],\n",
    "    [\"dragon\",\"grape\"]\n",
    "]\n",
    "# fruits[0].append(\"fruit\")\n",
    "# print(fruits)\n",
    "a = fruits[1:2][0][1][-2]\n",
    "print(a)\n",
    "# a = [len(fruits[0]),len(fruits[1]),len(fruits[2])]\n",
    "# print(sum(a))\n"
   ]
  },
  {
   "cell_type": "code",
   "execution_count": 4,
   "id": "3d5df00b",
   "metadata": {},
   "outputs": [
    {
     "name": "stdout",
     "output_type": "stream",
     "text": [
      "((0, 1), (2, 3), (4, 5))\n"
     ]
    }
   ],
   "source": [
    "# Tuple inside Tuple\n",
    "\n",
    "coordinates = ((0,1),(2,3),(4,5))\n",
    "print(coordinates)"
   ]
  },
  {
   "cell_type": "code",
   "execution_count": 3,
   "id": "b280bcd6",
   "metadata": {},
   "outputs": [
    {
     "name": "stdout",
     "output_type": "stream",
     "text": [
      "1\n"
     ]
    }
   ],
   "source": [
    "# Tuple inside list\n",
    "\n",
    "students = [(\"Alice\",23),(\"Bob\",21)]\n",
    "print(int(str(students[1][1])+str(23))//2123)\n",
    "# print(students[1].pop())"
   ]
  },
  {
   "cell_type": "code",
   "execution_count": 5,
   "id": "966d2cbc",
   "metadata": {},
   "outputs": [
    {
     "name": "stdout",
     "output_type": "stream",
     "text": [
      "20\n"
     ]
    }
   ],
   "source": [
    "# List inside a tuple\n",
    "\n",
    "groups = ([10,20],[30,40])\n",
    "print(int(str(groups[1][-2]).replace('3','2')))"
   ]
  },
  {
   "cell_type": "code",
   "execution_count": 9,
   "id": "d3eae303",
   "metadata": {},
   "outputs": [
    {
     "name": "stdout",
     "output_type": "stream",
     "text": [
      "[{'name': 'Alice', 'age': 23, 'marks:': 3}, {'name': 'Bob', 'age': 27}]\n"
     ]
    }
   ],
   "source": [
    "# List of Dictionaries\n",
    "\n",
    "students = [{\"name\":\"Alice\",\n",
    "             \"age\":23 },\n",
    "             {\"name\":\"Bob\",\n",
    "              \"age\": 27     \n",
    "          }]\n",
    "\n",
    "# print(students[0][\"name\"])\n",
    "# print(students[0].get(\"marks\",\"40\"))\n",
    "students[0].update({\"marks:\":len(students[1].get(\"name\",\"John\"))})\n",
    "print(students)\n"
   ]
  },
  {
   "cell_type": "code",
   "execution_count": 10,
   "id": "fde84b36",
   "metadata": {},
   "outputs": [
    {
     "name": "stdout",
     "output_type": "stream",
     "text": [
      "67\n"
     ]
    }
   ],
   "source": [
    "# List inside a Dictionary\n",
    "\n",
    "subject_marks = {\n",
    "    \"Math\" : [30,67,80],\n",
    "\n",
    "}\n",
    "print(subject_marks[\"Math\"][1])"
   ]
  },
  {
   "cell_type": "code",
   "execution_count": 14,
   "id": "af71a3c2",
   "metadata": {},
   "outputs": [
    {
     "name": "stdout",
     "output_type": "stream",
     "text": [
      "23\n"
     ]
    }
   ],
   "source": [
    "# Dictionary inside a Dictionary\n",
    "\n",
    "user_profile = {\n",
    "    \"Alice\" : {\n",
    "        \"name\" : \"Alice\",\n",
    "        \"age\" : 23\n",
    "    }\n",
    "}\n",
    "print(user_profile.get(\"Alice\").pop(\"age\"))"
   ]
  },
  {
   "cell_type": "code",
   "execution_count": null,
   "id": "cea380ce",
   "metadata": {},
   "outputs": [],
   "source": [
    "# Dictionary inside a List\n",
    "\n",
    "billing_histroy = [{\n",
    "    \"amount\" : \"200\",\n",
    "    \"status\" : \"failed\"\n",
    "},\n",
    "{\n",
    "    \"amount\" : \"832\",\n",
    "    \"status\" :\"Success\"\n",
    "    \"\"\n",
    "}\n",
    "]"
   ]
  }
 ],
 "metadata": {
  "kernelspec": {
   "display_name": "Python 3",
   "language": "python",
   "name": "python3"
  },
  "language_info": {
   "codemirror_mode": {
    "name": "ipython",
    "version": 3
   },
   "file_extension": ".py",
   "mimetype": "text/x-python",
   "name": "python",
   "nbconvert_exporter": "python",
   "pygments_lexer": "ipython3",
   "version": "3.11.4"
  }
 },
 "nbformat": 4,
 "nbformat_minor": 5
}
