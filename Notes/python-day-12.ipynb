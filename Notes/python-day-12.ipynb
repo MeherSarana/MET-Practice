{
 "cells": [
  {
   "cell_type": "code",
   "execution_count": null,
   "id": "37e92b85",
   "metadata": {},
   "outputs": [],
   "source": [
    "# Positional Arguments\n",
    "# Default Argument Sequence\n",
    "# Arbitary Arguments * Tuple \n",
    "# Arbitary Keyword Arguments ** Dict\n",
    "\n",
    "# Match Case\n",
    "\n",
    "# Loops\n",
    "\n"
   ]
  }
 ],
 "metadata": {
  "kernelspec": {
   "display_name": "Python 3",
   "language": "python",
   "name": "python3"
  },
  "language_info": {
   "name": "python",
   "version": "3.11.4"
  }
 },
 "nbformat": 4,
 "nbformat_minor": 5
}
