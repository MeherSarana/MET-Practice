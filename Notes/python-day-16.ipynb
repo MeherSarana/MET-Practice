{
 "cells": [
  {
   "cell_type": "code",
   "execution_count": null,
   "id": "11b90ef1",
   "metadata": {},
   "outputs": [],
   "source": [
    "# Method Rules\n",
    "# if self.name it would be Public\n",
    "# if self._name it would be Protected (Also Accessible in Sub-Class)\n",
    "# if self.__name it would be Private (Only that class)"
   ]
  },
  {
   "cell_type": "code",
   "execution_count": null,
   "id": "ec64a4b6",
   "metadata": {},
   "outputs": [
    {
     "name": "stdout",
     "output_type": "stream",
     "text": [
      "The Pet name is Tim\n"
     ]
    },
    {
     "data": {
      "text/plain": [
       "'Chopper'"
      ]
     },
     "execution_count": 2,
     "metadata": {},
     "output_type": "execute_result"
    }
   ],
   "source": [
    "# Encapsulation Example \n",
    "class Dog:\n",
    "    def __init__(self,breed,name):\n",
    "        self.breed = breed\n",
    "        self.__name = name\n",
    "\n",
    "    def set_dog_name(self,new_name):\n",
    "        self.name = new_name\n",
    "        return new_name\n",
    "    \n",
    "    def get_dog_name(self):\n",
    "        print(f\"The Pet name is {self.__name}\") \n",
    "\n",
    "dog = Dog(\"Shepard\",\"Tim\")\n",
    "dog.get_dog_name()\n",
    "dog.set_dog_name(\"Chopper\")\n",
    "        "
   ]
  },
  {
   "cell_type": "code",
   "execution_count": null,
   "id": "8f7a1bcf",
   "metadata": {},
   "outputs": [],
   "source": [
    "# Inheritance\n"
   ]
  }
 ],
 "metadata": {
  "kernelspec": {
   "display_name": "Python 3",
   "language": "python",
   "name": "python3"
  },
  "language_info": {
   "codemirror_mode": {
    "name": "ipython",
    "version": 3
   },
   "file_extension": ".py",
   "mimetype": "text/x-python",
   "name": "python",
   "nbconvert_exporter": "python",
   "pygments_lexer": "ipython3",
   "version": "3.11.4"
  }
 },
 "nbformat": 4,
 "nbformat_minor": 5
}
