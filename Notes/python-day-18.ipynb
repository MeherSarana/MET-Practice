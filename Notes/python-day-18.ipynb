{
 "cells": [
  {
   "cell_type": "code",
   "execution_count": null,
   "id": "16232314",
   "metadata": {},
   "outputs": [],
   "source": [
    "s = '(((())))'\n",
    "\n",
    "while '()' in s:\n",
    "    s = s.replace('()', '')\n",
    "\n",
    "print(\"Balanced\" if s == '' else \"Unbalanced\")"
   ]
  }
 ],
 "metadata": {
  "kernelspec": {
   "display_name": "Python 3",
   "language": "python",
   "name": "python3"
  },
  "language_info": {
   "name": "python",
   "version": "3.11.4"
  }
 },
 "nbformat": 4,
 "nbformat_minor": 5
}
