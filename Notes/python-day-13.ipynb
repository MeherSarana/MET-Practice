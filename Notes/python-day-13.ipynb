{
 "cells": [
  {
   "cell_type": "code",
   "execution_count": 3,
   "id": "9d7ff517",
   "metadata": {},
   "outputs": [
    {
     "name": "stdout",
     "output_type": "stream",
     "text": [
      "1 Mail Sent\n",
      "Ex1\n",
      "2 Mail Sent\n",
      "Ex1\n",
      "3 Mail Sent\n",
      "Ex1\n",
      "4 Mail Sent\n",
      "1 Mail Sent\n",
      "2 Mail Sent\n",
      "3 Mail Sent\n",
      "4 Mail Sent\n",
      "5 Mail Sent\n",
      "6 Mail Sent\n",
      "All Mails Sent!!!!!!!!\n"
     ]
    }
   ],
   "source": [
    "#while-else\n",
    "\n",
    "i = 0\n",
    "while i<6:\n",
    "    i+=1\n",
    "    print(f\"{i} Mail Sent\")\n",
    "    if i == 4:\n",
    "        break\n",
    "    print(\"Ex1\")\n",
    "else:\n",
    "    print(\"All Mails Sent!!!!!!!!\")\n",
    "\n",
    "i = 0\n",
    "while i<6:\n",
    "    i+=1\n",
    "    print(f\"{i} Mail Sent\")\n",
    "    # if i == 4:\n",
    "    #     break\n",
    "else:\n",
    "    print(\"All Mails Sent!!!!!!!!\")"
   ]
  },
  {
   "cell_type": "code",
   "execution_count": 17,
   "id": "46b12ebf",
   "metadata": {},
   "outputs": [
    {
     "name": "stdout",
     "output_type": "stream",
     "text": [
      "1\n",
      "3\n",
      "5\n"
     ]
    }
   ],
   "source": [
    "# For Loop\n",
    "fruits = [\"apple\",\"banana\",\"cherry\"]\n",
    "\n",
    "# For List\n",
    "# for fruit in fruits:\n",
    "#     print(fruit[0]) a b c\n",
    "\n",
    "# For String\n",
    "# name = 'alex'\n",
    "# for char in name:\n",
    "#     print(char)\n",
    "# print(char) NR\n",
    "\n",
    "# For Dict\n",
    "# details = {\n",
    "#     \"name\" : \"Ally\",\n",
    "#     \"age\" :  50\n",
    "# }\n",
    "\n",
    "# for item in details:\n",
    "#     print(item)\n",
    "#     print(details[item])\n",
    "\n",
    "# for item in details.items():\n",
    "#     print(item)\n",
    "\n",
    "#Range Function\n",
    "\n",
    "for i in range(1,7,2):\n",
    "    print(i)"
   ]
  },
  {
   "cell_type": "code",
   "execution_count": 10,
   "id": "ee451472",
   "metadata": {},
   "outputs": [
    {
     "name": "stdout",
     "output_type": "stream",
     "text": [
      "4\n"
     ]
    }
   ],
   "source": [
    "vowels = ['a','e','i','o','u']\n",
    "count = 0\n",
    "sentence = input('Enter a Sentence: ')\n",
    "for char in sentence:\n",
    "    if char in vowels:\n",
    "        count+=1\n",
    "print(count)"
   ]
  },
  {
   "cell_type": "code",
   "execution_count": 26,
   "id": "4faa5204",
   "metadata": {},
   "outputs": [
    {
     "name": "stdout",
     "output_type": "stream",
     "text": [
      "Your Password is Strong\n"
     ]
    }
   ],
   "source": [
    "# Password Criteria - One Uppercase, One Number\n",
    "\n",
    "password = input(\"Enter Your Password:\")\n",
    "result = False\n",
    "for pas in password:\n",
    "    if pas.isupper() and pas.isdigit() or pas.islower():\n",
    "        result = True\n",
    "        break\n",
    "    else:\n",
    "        result = False\n",
    "\n",
    "if result:\n",
    "    print('Your Password is Strong')\n",
    "else:\n",
    "    print('Your Password is Weak')"
   ]
  },
  {
   "cell_type": "code",
   "execution_count": 28,
   "id": "96df5880",
   "metadata": {},
   "outputs": [
    {
     "name": "stdout",
     "output_type": "stream",
     "text": [
      "Weak Password\n"
     ]
    }
   ],
   "source": [
    "import string\n",
    " \n",
    "def validate_password(pas):\n",
    "    up=False\n",
    "    lo=False\n",
    "    sc=False\n",
    "    num=False\n",
    "    for i in pas:\n",
    "        if i.isupper():\n",
    "            up=True\n",
    "        elif i.islower():\n",
    "            lo=True\n",
    "        elif i.isdigit():\n",
    "            num=True\n",
    "        elif i in string.punctuation:\n",
    "            sc=True\n",
    "    return up and lo and num and sc\n",
    "pas = input(\"Enter a password: \")\n",
    "result= validate_password(pas)\n",
    " \n",
    "if result == True:\n",
    "    print(\"Strong Password\")\n",
    "else:\n",
    "    print(\"Weak Password\")"
   ]
  }
 ],
 "metadata": {
  "kernelspec": {
   "display_name": "Python 3",
   "language": "python",
   "name": "python3"
  },
  "language_info": {
   "codemirror_mode": {
    "name": "ipython",
    "version": 3
   },
   "file_extension": ".py",
   "mimetype": "text/x-python",
   "name": "python",
   "nbconvert_exporter": "python",
   "pygments_lexer": "ipython3",
   "version": "3.11.4"
  }
 },
 "nbformat": 4,
 "nbformat_minor": 5
}
